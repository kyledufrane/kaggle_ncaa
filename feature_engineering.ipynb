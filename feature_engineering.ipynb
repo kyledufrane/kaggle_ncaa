{
 "cells": [
  {
   "cell_type": "code",
   "execution_count": null,
   "id": "bc4216c0-c70f-4ba9-b2aa-31eb70e6fb25",
   "metadata": {},
   "outputs": [],
   "source": [
    "from  geopy.geocoders import Nominatim\n",
    "\n",
    "geolocator = Nominatim(user_agent='me')\n",
    "\n",
    "def get_coordinates(df):\n",
    "    df['latitude'] = 0\n",
    "    df['longitude'] = 0\n",
    "    \n",
    "    for idx in range(0,len(df)-1):\n",
    "        try:\n",
    "            city = df.loc[idx, 'City']\n",
    "            state = df.loc[idx, 'State']\n",
    "            loc = geolocator.geocode(city+','+ state)\n",
    "            df.loc[idx, 'latitude'] = loc[1][0]\n",
    "            df.loc[idx,'longitude'] = loc[1][1]\n",
    "        except:\n",
    "            print(f'No information returned for {city}, {state}')\n",
    "    return df\n",
    "\n",
    "cities_with_coord = get_coordinates(cities)\n",
    "\n",
    "cities_with_coord"
   ]
  }
 ],
 "metadata": {
  "kernelspec": {
   "display_name": "kaggle_env",
   "language": "python",
   "name": "kaggle_env"
  },
  "language_info": {
   "codemirror_mode": {
    "name": "ipython",
    "version": 3
   },
   "file_extension": ".py",
   "mimetype": "text/x-python",
   "name": "python",
   "nbconvert_exporter": "python",
   "pygments_lexer": "ipython3",
   "version": "3.9.7"
  }
 },
 "nbformat": 4,
 "nbformat_minor": 5
}
