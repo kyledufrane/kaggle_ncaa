{
 "cells": [
  {
   "cell_type": "markdown",
   "id": "54f35554-6b06-4f2e-9a5e-e9d2a5424490",
   "metadata": {},
   "source": [
    "# Kaggle March Madness (Stage 1) - Data Preparation\n",
    "\n",
    "In this section we will explore our data further and go beyond basic descriptions. We'll verify the data quality and join our base datasets together. In the next notebook we will begin our feature engineering. \n",
    "\n",
    "## Summary from Data Understanding\n",
    "\n",
    "Project Goals: submit predicted probabilities that the team with the lower id beats the team with the higher id.\n",
    "\n",
    "* Seasons are denoted by their ending year \n",
    "    * I.E. season 2021-2022 will show 2022\n",
    "    \n",
    "Section 1: Teams\n",
    "\n",
    "* 378 teams in dataset \n",
    "    * current 358 teams in division 1\n",
    "        * does this need to be reconciled?\n",
    "\n",
    "Teams Dataframe: \n",
    "* 4 Columns\n",
    "    * TeamID,TeamName,FirstD1Season,LastD1Season\n",
    "        * Team ID = number between 1000-1999\n",
    "        * TeamName = abreviated team name (MAX len = 16)\n",
    "        * FirstD1Season = first year of play in division 1\n",
    "        * LastD1Season = last year of play in division 1\n",
    "             * Note: This will help us eliminate or show a probablity of 0 if a team is no longer division 1\n",
    "\n",
    "\n",
    "Seasons Dataframe:\n",
    "* 6 Columns\n",
    "    * Season,DayZero,RegionW, RegionX, Region Y, Region Z\n",
    "        * Season = Season Year\n",
    "        * DayZero = Start Date of Season\n",
    "        * Region W,X,Y,Z - denotes conference for final four teams \n",
    "            * Whichever team comes first alphabetically will be given the variable W\n",
    "                * Whichever team plays W will be given the variable X\n",
    "            * Of the remaining two teams, whichever team comes first alphabetically will be given the variable Y\n",
    "                * Whichever team plays Y will be give nthe variable Z\n",
    "                \n",
    "Tourney Seeds Dataframe:\n",
    "* 3 Columns:\n",
    "    * Season,Seed,TeamID\n",
    "        * Season = year tournament was played\n",
    "        * Seed = typically denoted using W,X,Y,Z followed by an integer 1-16\n",
    "            * W, X, Y, Z denotes region as shown on the Season Dataframe\n",
    "            * integer denotes rank within that region\n",
    "                * Example: W01 would be the 1st overall team in W01 given the year (Season column)\n",
    "            * alternatively, if a team is a \"play-in\" team:\n",
    "                * the two teams that had an additional game to get into the tournament will have their seed end in either an 'a' or 'b'\n",
    "        * TeamID - identifies the team based from the Teams Dataframe\n",
    "        \n",
    "Regular Season Compact Results Dataframe:\n",
    "* 8 Columns:\n",
    "    * Season,DayNum,WTeamID,WScore,LTeamID,LScore,WLoc,NumOT\n",
    "        * Season = season year (assocaited with Seasons)\n",
    "        * DayNum = day number (ranging from 0-132)\n",
    "            * Note: Regular season ends at day 132\n",
    "            * Note: As previously mentioned day zero is the start of the season\n",
    "        * WTeamID = winning teams ID\n",
    "        * WScore = winning teams score\n",
    "        * LTeamID = losing teams ID\n",
    "        * LScore = losing teams score\n",
    "        * WLoc = location of the winning team (H,A,N)\n",
    "            * H = Home\n",
    "            * A = Away\n",
    "            * N = Neutral\n",
    "        * NumOT = number of overtime periods (0-n)\n",
    "        \n",
    "Tournament Compact Reults\n",
    "* 8 Columns:\n",
    "    * Data is identical to Regular Season Compact Results Dateframe\n",
    "        * Useful Info\n",
    "            * DayNum=134 or 135 (Tue/Wed) - play-in games to get the tournament field down to the final 64 teams\n",
    "            * DayNum=136 or 137 (Thu/Fri) - Round 1, to bring the tournament field from 64 teams to 32 teams\n",
    "            * DayNum=138 or 139 (Sat/Sun) - Round 2, to bring the tournament field from 32 teams to 16 teams\n",
    "            * DayNum=143 or 144 (Thu/Fri) - Round 3, otherwise known as \"Sweet Sixteen\", to bring the tournament field from 16 teams to 8 teams\n",
    "            * DayNum=145 or 146 (Sat/Sun) - Round 4, otherwise known as \"Elite Eight\" or \"regional finals\", to bring the tournament field from 8 teams to 4 teams\n",
    "            * DayNum=152 (Sat) - Round 5, otherwise known as \"Final Four\" or \"national semifinals\", to bring the tournament field from 4 teams to 2 teams\n",
    "            * DayNum=154 (Mon) - Round 6, otherwise known as \"national final\" or \"national championship\", to bring the tournament field from 2 teams to 1 champion team\n",
    "\n",
    "Regular Season Detailed Results\n",
    "* 34 Columns:\n",
    "    * Data is identical to Regular Season Compact Results Dateframe\n",
    "        * Provides data post 2003\n",
    "\n",
    "Tournament Detailed Results\n",
    "* 34 Columns:\n",
    "    * Data is identical to Regular Season Compact Results Dateframe\n",
    "        * Provides data post 2003\n",
    "    Detailed Results include:\n",
    "       * WFGM - field goals made (by the winning team)\n",
    "       * WFGA - field goals attempted (by the winning team)\n",
    "       * WFGM3 - three pointers made (by the winning team)\n",
    "       * WFGA3 - three pointers attempted (by the winning team)\n",
    "       * WFTM - free throws made (by the winning team)\n",
    "       * WFTA - free throws attempted (by the winning team)\n",
    "       * WDR - defensive rebounds (pulled by the winning team)\n",
    "       * WAst - assists (by the winning team)\n",
    "       * WTO - turnovers committed (by the winning team)\n",
    "       * WStl - steals (accomplished by the winning team)\n",
    "       * WBlk - blocks (accomplished by the winning team)\n",
    "       * WPF - personal fouls committed (by the winning team)\n",
    "\n",
    "Cities\n",
    "* 3 Columns:\n",
    "    * CityID,City,State\n",
    "        * CityID = four digit ID \n",
    "        * City = city name\n",
    "        * State = state city is located\n",
    "\n",
    "Game Cities\n",
    "* 6 Columns\n",
    "    * Season, DayNum, WTeamID, LTeamID, CRType, CityID\n",
    "        * Season, DayNum, WTeamID, LTeamID = identical to past dataframes\n",
    "        * CRType = Regular, NCAA, Secondary\n",
    "            * Regular = Regular Season\n",
    "            * NCAA = Tournament\n",
    "            * Secondary = Secondary Tournament (alternative to NCAA)\n",
    "                * See below notes \n",
    "        * CityID = ID of city where game was played\n",
    "        \n",
    "Massey Ordinals\n",
    "* Note: this is using external rankings and will add complexity to this performance. Get a foundation built for your model and possibly try to incorporate these rankings at a later date.\n",
    "\n",
    "\n",
    "Coaches\n",
    "* 5 Columns\n",
    "    * Season,TeamID,FirstDayNum,LastDayNum,CoachName\n",
    "        * Season = season year\n",
    "        * TeamID = team ID \n",
    "        * FirstDayNum = coaches start date\n",
    "        * LastDayNum = coaches end date\n",
    "            * Note: FirstDayNum/LastDayNum: \n",
    "                * A coach who serves a full season with have 0 for FirstDayNum and 154 for LayDayNum\n",
    "                * Coaches who started/stopped coaching during the season will have applicable integers assocaited to start/end day num\n",
    "        * CoachName = coaches name\n",
    "        \n",
    "Conferences\n",
    "* 2 Columns\n",
    "    * ConfAbbrev, Description\n",
    "        * ConfAbbrev = conference abbreviation\n",
    "        * Description = full conference name\n",
    "            * Note: Data goes back to the 1985 season. The dataset does not take into account conference mergers. \n",
    "            \n",
    "Team Conferences\n",
    "* 3 Columns\n",
    "    * Season,TeamID,ConfAbbrev\n",
    "        * Season = year\n",
    "        * TeamID = team ID\n",
    "        * ConfAbbrev = conference abbreviation\n",
    "            * Note: This should help clarrify the conference mergers as it shows historical conferencing base on team. \n",
    "            \n",
    "Conference Tournament Games\n",
    "* 5 Columns\n",
    "    * ConfAbbrev, Season, DayNum, WTeamID, LTeamID\n",
    "        * ConfAbbrev = conference abbreviation\n",
    "        * Season = yearTeams\n",
    "        * DayNum = day number post day 0\n",
    "        * WTeamID = winning team ID\n",
    "        * LTeamID = Losing Team ID\n",
    "            * Note: All of this data is already provided in Regular Season Compact and Detailed Results\n",
    "                * Note: This will identify games that occured during the conference championship tournament\n",
    "\n",
    "Secondary Tournament Teams & Secondary Tourney Compact Results\n",
    "* Note: These dataset provide information unrelated to the NCAA tournament and include data for alternative tournaments. \n",
    "    * To Do: Get initial structure in place and possibly incorporate this data to see if model improves\n",
    "    \n",
    "Team Spellings\n",
    "* Note: Includes alternative spellings of team names. Could be used for aligning external datasets\n",
    "    * Come back to this if you decide to include external data\n",
    "    \n",
    "Tournament Seed Round Slots \n",
    "* 5 Columns\n",
    "    * Seed,GameRound,GameSlot,EarlyDayNum,LateDayNum\n",
    "       * Seed - this is the tournament seed of the team.\n",
    "       * GameRound - round during the tournament that the game would occur in, where Round 0 (zero) is for the play-in games, Rounds 1/2 are for the first weekend, Rounds 3/4 are for the second weekend, and Rounds 5/6 are the national semifinals and finals.\n",
    "       * GameSlot - this is the game slot that the team would be playing in, during the given GameRound. The naming convention for slots is described above, in the definition of the MNCAATourneySlots file.\n",
    "       * EarlyDayNum, LateDayNum - these fields describe the earliest possible, and latest possible, DayNums that the game might be played on."
   ]
  },
  {
   "cell_type": "markdown",
   "id": "c360029e-41c1-47de-9935-e01275c2e7a6",
   "metadata": {},
   "source": [
    "### Verfiying data quality\n",
    "\n",
    "To start we will verify if we have any misssing values in our data."
   ]
  },
  {
   "cell_type": "code",
   "execution_count": 42,
   "id": "147803f0-90a3-4496-b867-273a2febd96a",
   "metadata": {},
   "outputs": [],
   "source": [
    "import pandas as pd\n",
    "import matplotlib.pyplot as plt\n",
    "import os"
   ]
  },
  {
   "cell_type": "code",
   "execution_count": 19,
   "id": "0f6f5c56-b8de-4340-a3fe-548815426802",
   "metadata": {},
   "outputs": [],
   "source": [
    "for file in os.listdir('MDataFiles_Stage1/'):\n",
    "    try:\n",
    "        df = pd.read_csv(f'MDataFiles_Stage1/{file}')\n",
    "        for col in df.columns:\n",
    "            if df.isna().sum()[col] > 0:\n",
    "                print(f'{file}{col} has {df.isna().sum()[col]} NaN values!')\n",
    "            else:\n",
    "                pass\n",
    "    except:\n",
    "        df = pd.read_csv(f'MDataFiles_Stage1/{file}', encoding='cp1252')\n",
    "        for col in df.columns:\n",
    "            if df.isna().sum()[col] > 0:\n",
    "                print(f'{file}{col} has {df.isna().sum()[col]} NaN values!')\n",
    "            else:\n",
    "                pass"
   ]
  },
  {
   "cell_type": "markdown",
   "id": "10e3a4a5-ec7e-4766-a225-510cba2f504e",
   "metadata": {},
   "source": [
    "What is clean data? Since the above cell did not return anything we can see what the data is not containing any NaN values. \n",
    "\n",
    "Next, we will load in all of our data and start taking a deeper look into what has been provided for this competition."
   ]
  },
  {
   "cell_type": "code",
   "execution_count": 22,
   "id": "71972683-ed86-4800-9f55-90a61dcd2de8",
   "metadata": {},
   "outputs": [
    {
     "name": "stdout",
     "output_type": "stream",
     "text": [
      "/home/kyle/Desktop/kaggle/ncaa_basketball/MDataFiles_Stage1\n"
     ]
    }
   ],
   "source": [
    "cd MDataFiles_Stage1/"
   ]
  },
  {
   "cell_type": "code",
   "execution_count": 24,
   "id": "90c0248a-2801-44d6-8554-816b915a53b4",
   "metadata": {},
   "outputs": [],
   "source": [
    "teams = pd.read_csv('MTeams.csv')\n",
    "seasons = pd.read_csv('MSeasons.csv')\n",
    "tourney_seeds = pd.read_csv('MNCAATourneySeeds.csv')\n",
    "reg_season_compact_results = pd.read_csv('MRegularSeasonCompactResults.csv')\n",
    "tourney_compact_results = pd.read_csv('MNCAATourneyCompactResults.csv')\n",
    "reg_season_detailed_results = pd.read_csv('MRegularSeasonDetailedResults.csv')\n",
    "tourney_detailed_results = pd.read_csv('MNCAATourneyDetailedResults.csv')\n",
    "cities = pd.read_csv('Cities.csv')\n",
    "game_cities = pd.read_csv('MGameCities.csv')\n",
    "massey_ordinals = pd.read_csv('MMasseyOrdinals.csv')\n",
    "team_coaches = pd.read_csv('MTeamCoaches.csv')\n",
    "conf = pd.read_csv('Conferences.csv')\n",
    "team_conf = pd.read_csv('MTeamConferences.csv')\n",
    "conf_tourney_games = pd.read_csv('MConferenceTourneyGames.csv')\n",
    "secondary_tourney_teams = pd.read_csv('MSecondaryTourneyTeams.csv')\n",
    "secondary_tourney_compact_results = pd.read_csv('MSecondaryTourneyTeams.csv')\n",
    "team_spellings = pd.read_csv('MTeamSpellings.csv', encoding='cp1252')\n",
    "tourney_slots = pd.read_csv('MNCAATourneySlots.csv')\n",
    "tourney_seed_round_slots = pd.read_csv('MNCAATourneySeedRoundSlots.csv')"
   ]
  },
  {
   "cell_type": "markdown",
   "id": "35f531bb-6cfe-4cd6-8783-cf1ef74822bd",
   "metadata": {},
   "source": [
    "### Teams"
   ]
  },
  {
   "cell_type": "code",
   "execution_count": 25,
   "id": "4d117d42-6eab-4498-9d7c-1acb8a87ddb0",
   "metadata": {},
   "outputs": [
    {
     "data": {
      "text/html": [
       "<div>\n",
       "<style scoped>\n",
       "    .dataframe tbody tr th:only-of-type {\n",
       "        vertical-align: middle;\n",
       "    }\n",
       "\n",
       "    .dataframe tbody tr th {\n",
       "        vertical-align: top;\n",
       "    }\n",
       "\n",
       "    .dataframe thead th {\n",
       "        text-align: right;\n",
       "    }\n",
       "</style>\n",
       "<table border=\"1\" class=\"dataframe\">\n",
       "  <thead>\n",
       "    <tr style=\"text-align: right;\">\n",
       "      <th></th>\n",
       "      <th>TeamID</th>\n",
       "      <th>TeamName</th>\n",
       "      <th>FirstD1Season</th>\n",
       "      <th>LastD1Season</th>\n",
       "    </tr>\n",
       "  </thead>\n",
       "  <tbody>\n",
       "    <tr>\n",
       "      <th>0</th>\n",
       "      <td>1101</td>\n",
       "      <td>Abilene Chr</td>\n",
       "      <td>2014</td>\n",
       "      <td>2022</td>\n",
       "    </tr>\n",
       "    <tr>\n",
       "      <th>1</th>\n",
       "      <td>1102</td>\n",
       "      <td>Air Force</td>\n",
       "      <td>1985</td>\n",
       "      <td>2022</td>\n",
       "    </tr>\n",
       "    <tr>\n",
       "      <th>2</th>\n",
       "      <td>1103</td>\n",
       "      <td>Akron</td>\n",
       "      <td>1985</td>\n",
       "      <td>2022</td>\n",
       "    </tr>\n",
       "    <tr>\n",
       "      <th>3</th>\n",
       "      <td>1104</td>\n",
       "      <td>Alabama</td>\n",
       "      <td>1985</td>\n",
       "      <td>2022</td>\n",
       "    </tr>\n",
       "    <tr>\n",
       "      <th>4</th>\n",
       "      <td>1105</td>\n",
       "      <td>Alabama A&amp;M</td>\n",
       "      <td>2000</td>\n",
       "      <td>2022</td>\n",
       "    </tr>\n",
       "  </tbody>\n",
       "</table>\n",
       "</div>"
      ],
      "text/plain": [
       "   TeamID     TeamName  FirstD1Season  LastD1Season\n",
       "0    1101  Abilene Chr           2014          2022\n",
       "1    1102    Air Force           1985          2022\n",
       "2    1103        Akron           1985          2022\n",
       "3    1104      Alabama           1985          2022\n",
       "4    1105  Alabama A&M           2000          2022"
      ]
     },
     "execution_count": 25,
     "metadata": {},
     "output_type": "execute_result"
    }
   ],
   "source": [
    "teams.head()"
   ]
  },
  {
   "cell_type": "markdown",
   "id": "2c0e7fc5-5fca-4a52-8a6d-0115744a01d9",
   "metadata": {},
   "source": [
    "Looking at the info, you can see that the FirstD1Season and LastD1Season are integers. Moving forward we will keep this in mind but for now the plan would be to one hot encode these values allowing the dtype to be anything.  "
   ]
  },
  {
   "cell_type": "code",
   "execution_count": 55,
   "id": "0e856018-ba04-4d0b-939a-09b7ce9da34c",
   "metadata": {},
   "outputs": [
    {
     "name": "stdout",
     "output_type": "stream",
     "text": [
      "<class 'pandas.core.frame.DataFrame'>\n",
      "RangeIndex: 372 entries, 0 to 371\n",
      "Data columns (total 4 columns):\n",
      " #   Column         Non-Null Count  Dtype \n",
      "---  ------         --------------  ----- \n",
      " 0   TeamID         372 non-null    int64 \n",
      " 1   TeamName       372 non-null    object\n",
      " 2   FirstD1Season  372 non-null    int64 \n",
      " 3   LastD1Season   372 non-null    int64 \n",
      "dtypes: int64(3), object(1)\n",
      "memory usage: 11.8+ KB\n"
     ]
    }
   ],
   "source": [
    "teams.info()"
   ]
  },
  {
   "cell_type": "code",
   "execution_count": 77,
   "id": "0eb0dfe0-7c14-48d8-829d-af6e03b531b6",
   "metadata": {},
   "outputs": [
    {
     "data": {
      "text/plain": [
       "1985    282\n",
       "2000      8\n",
       "1987      8\n",
       "2003      6\n",
       "2008      5\n",
       "1999      5\n",
       "2009      5\n",
       "1992      5\n",
       "2014      4\n",
       "2006      4\n",
       "2021      4\n",
       "2005      4\n",
       "1986      3\n",
       "2007      3\n",
       "1991      3\n",
       "1996      3\n",
       "2002      3\n",
       "1989      3\n",
       "2019      2\n",
       "1994      2\n",
       "1988      2\n",
       "1990      1\n",
       "2013      1\n",
       "2012      1\n",
       "1998      1\n",
       "1993      1\n",
       "2020      1\n",
       "1995      1\n",
       "2022      1\n",
       "Name: FirstD1Season, dtype: int64"
      ]
     },
     "execution_count": 77,
     "metadata": {},
     "output_type": "execute_result"
    }
   ],
   "source": [
    "# Years teams joined Division 1\n",
    "teams.FirstD1Season.value_counts()"
   ]
  },
  {
   "cell_type": "markdown",
   "id": "bb4f16be-2dd3-4597-b57a-63ee5b5cac22",
   "metadata": {},
   "source": [
    "The above output shows when the teams in the dataset joined division 1. Below we can see that 76% of the teams have been D1 caliber since 1985 and 96% of the teams (358) have stayed in division 1 since they have entered. "
   ]
  },
  {
   "cell_type": "code",
   "execution_count": 81,
   "id": "f5809e63-af11-49d4-a401-26ffe9d9238d",
   "metadata": {},
   "outputs": [
    {
     "data": {
      "text/plain": [
       "0.7580645161290323"
      ]
     },
     "execution_count": 81,
     "metadata": {},
     "output_type": "execute_result"
    }
   ],
   "source": [
    "teams.FirstD1Season.value_counts()[1985]/teams.FirstD1Season.value_counts().sum()"
   ]
  },
  {
   "cell_type": "code",
   "execution_count": 82,
   "id": "23d300d0-a3dc-4a11-8425-4fae5f3d1836",
   "metadata": {},
   "outputs": [
    {
     "data": {
      "text/plain": [
       "2022    358\n",
       "1991      2\n",
       "1987      2\n",
       "2006      1\n",
       "1992      1\n",
       "2011      1\n",
       "1990      1\n",
       "2003      1\n",
       "1998      1\n",
       "1985      1\n",
       "2019      1\n",
       "2010      1\n",
       "1986      1\n",
       "Name: LastD1Season, dtype: int64"
      ]
     },
     "execution_count": 82,
     "metadata": {},
     "output_type": "execute_result"
    }
   ],
   "source": [
    "# Years teams left Division 1\n",
    "teams.LastD1Season.value_counts()"
   ]
  },
  {
   "cell_type": "code",
   "execution_count": 83,
   "id": "f11136a9-2111-4490-a501-ed3facfe5d9b",
   "metadata": {},
   "outputs": [
    {
     "data": {
      "text/plain": [
       "0.9623655913978495"
      ]
     },
     "execution_count": 83,
     "metadata": {},
     "output_type": "execute_result"
    }
   ],
   "source": [
    "teams.LastD1Season.value_counts()[2022]/teams.LastD1Season.value_counts().sum()"
   ]
  },
  {
   "cell_type": "markdown",
   "id": "ebc5b66d-fee8-4c70-8875-9c03b94eff2b",
   "metadata": {},
   "source": [
    "### Season"
   ]
  },
  {
   "cell_type": "code",
   "execution_count": 85,
   "id": "d093643d-45a7-4dc1-950c-bdc81d95f27c",
   "metadata": {},
   "outputs": [
    {
     "data": {
      "text/html": [
       "<div>\n",
       "<style scoped>\n",
       "    .dataframe tbody tr th:only-of-type {\n",
       "        vertical-align: middle;\n",
       "    }\n",
       "\n",
       "    .dataframe tbody tr th {\n",
       "        vertical-align: top;\n",
       "    }\n",
       "\n",
       "    .dataframe thead th {\n",
       "        text-align: right;\n",
       "    }\n",
       "</style>\n",
       "<table border=\"1\" class=\"dataframe\">\n",
       "  <thead>\n",
       "    <tr style=\"text-align: right;\">\n",
       "      <th></th>\n",
       "      <th>Season</th>\n",
       "      <th>DayZero</th>\n",
       "      <th>RegionW</th>\n",
       "      <th>RegionX</th>\n",
       "      <th>RegionY</th>\n",
       "      <th>RegionZ</th>\n",
       "    </tr>\n",
       "  </thead>\n",
       "  <tbody>\n",
       "    <tr>\n",
       "      <th>0</th>\n",
       "      <td>1985</td>\n",
       "      <td>1984-10-29 00:00:00</td>\n",
       "      <td>East</td>\n",
       "      <td>West</td>\n",
       "      <td>Midwest</td>\n",
       "      <td>Southeast</td>\n",
       "    </tr>\n",
       "    <tr>\n",
       "      <th>1</th>\n",
       "      <td>1986</td>\n",
       "      <td>1985-10-28 00:00:00</td>\n",
       "      <td>East</td>\n",
       "      <td>Midwest</td>\n",
       "      <td>Southeast</td>\n",
       "      <td>West</td>\n",
       "    </tr>\n",
       "    <tr>\n",
       "      <th>2</th>\n",
       "      <td>1987</td>\n",
       "      <td>1986-10-27 00:00:00</td>\n",
       "      <td>East</td>\n",
       "      <td>Southeast</td>\n",
       "      <td>Midwest</td>\n",
       "      <td>West</td>\n",
       "    </tr>\n",
       "    <tr>\n",
       "      <th>3</th>\n",
       "      <td>1988</td>\n",
       "      <td>1987-11-02 00:00:00</td>\n",
       "      <td>East</td>\n",
       "      <td>Midwest</td>\n",
       "      <td>Southeast</td>\n",
       "      <td>West</td>\n",
       "    </tr>\n",
       "    <tr>\n",
       "      <th>4</th>\n",
       "      <td>1989</td>\n",
       "      <td>1988-10-31 00:00:00</td>\n",
       "      <td>East</td>\n",
       "      <td>West</td>\n",
       "      <td>Midwest</td>\n",
       "      <td>Southeast</td>\n",
       "    </tr>\n",
       "  </tbody>\n",
       "</table>\n",
       "</div>"
      ],
      "text/plain": [
       "   Season              DayZero RegionW    RegionX    RegionY    RegionZ\n",
       "0    1985  1984-10-29 00:00:00    East       West    Midwest  Southeast\n",
       "1    1986  1985-10-28 00:00:00    East    Midwest  Southeast       West\n",
       "2    1987  1986-10-27 00:00:00    East  Southeast    Midwest       West\n",
       "3    1988  1987-11-02 00:00:00    East    Midwest  Southeast       West\n",
       "4    1989  1988-10-31 00:00:00    East       West    Midwest  Southeast"
      ]
     },
     "execution_count": 85,
     "metadata": {},
     "output_type": "execute_result"
    }
   ],
   "source": [
    "seasons.head()"
   ]
  },
  {
   "cell_type": "code",
   "execution_count": 86,
   "id": "7084c2db-c5c7-4ff7-ba21-5c6c0014b29e",
   "metadata": {},
   "outputs": [
    {
     "name": "stdout",
     "output_type": "stream",
     "text": [
      "<class 'pandas.core.frame.DataFrame'>\n",
      "RangeIndex: 38 entries, 0 to 37\n",
      "Data columns (total 6 columns):\n",
      " #   Column   Non-Null Count  Dtype \n",
      "---  ------   --------------  ----- \n",
      " 0   Season   38 non-null     int64 \n",
      " 1   DayZero  38 non-null     object\n",
      " 2   RegionW  38 non-null     object\n",
      " 3   RegionX  38 non-null     object\n",
      " 4   RegionY  38 non-null     object\n",
      " 5   RegionZ  38 non-null     object\n",
      "dtypes: int64(1), object(5)\n",
      "memory usage: 1.9+ KB\n"
     ]
    }
   ],
   "source": [
    "seasons.info()"
   ]
  },
  {
   "cell_type": "code",
   "execution_count": 152,
   "id": "de79bd3a-55f6-4af2-b5e9-e2e8179442ff",
   "metadata": {},
   "outputs": [
    {
     "data": {
      "image/png": "[encoded data removed]",
      "text/plain": [
       "<Figure size 432x288 with 1 Axes>"
      ]
     },
     "metadata": {
      "needs_background": "light"
     },
     "output_type": "display_data"
    },
    {
     "data": {
      "image/png": "[encoded data removed]",
      "text/plain": [
       "<Figure size 432x288 with 1 Axes>"
      ]
     },
     "metadata": {
      "needs_background": "light"
     },
     "output_type": "display_data"
    },
    {
     "data": {
      "image/png": "[encoded data removed]",
      "text/plain": [
       "<Figure size 432x288 with 1 Axes>"
      ]
     },
     "metadata": {
      "needs_background": "light"
     },
     "output_type": "display_data"
    },
    {
     "data": {
      "image/png": "[encoded data removed]",
      "text/plain": [
       "<Figure size 432x288 with 1 Axes>"
      ]
     },
     "metadata": {
      "needs_background": "light"
     },
     "output_type": "display_data"
    }
   ],
   "source": [
    "for col in ['RegionW', 'RegionX', 'RegionY', 'RegionZ']:\n",
    "    plt.figure()\n",
    "    df = pd.DataFrame(seasons[col].value_counts())\n",
    "    plt.bar(df.index, df[col])\n",
    "    plt.title(col)\n",
    "    plt.xticks(rotation=45, ha='right')"
   ]
  },
  {
   "cell_type": "markdown",
   "id": "af56d51c-d32c-4944-8347-b9f5414154fa",
   "metadata": {},
   "source": [
    "East Region is crushing it! Lets go UCONN! Though its unlikely Uconn as they're at the end of the alphabet...remember W,X,Y,Z are determined based on whichever team comes first alphabetically. \n",
    "\n",
    "Note: it'll be interesting to see the distribution on what teams are claiming their conference the most.\n",
    "\n",
    "Besides the excitement, what does NA# and TBD tell us?"
   ]
  },
  {
   "cell_type": "code",
   "execution_count": 103,
   "id": "9b53c1b7-2a8a-4c41-9001-fb74362ae855",
   "metadata": {},
   "outputs": [
    {
     "data": {
      "text/html": [
       "<div>\n",
       "<style scoped>\n",
       "    .dataframe tbody tr th:only-of-type {\n",
       "        vertical-align: middle;\n",
       "    }\n",
       "\n",
       "    .dataframe tbody tr th {\n",
       "        vertical-align: top;\n",
       "    }\n",
       "\n",
       "    .dataframe thead th {\n",
       "        text-align: right;\n",
       "    }\n",
       "</style>\n",
       "<table border=\"1\" class=\"dataframe\">\n",
       "  <thead>\n",
       "    <tr style=\"text-align: right;\">\n",
       "      <th></th>\n",
       "      <th>Season</th>\n",
       "      <th>DayZero</th>\n",
       "      <th>RegionW</th>\n",
       "      <th>RegionX</th>\n",
       "      <th>RegionY</th>\n",
       "      <th>RegionZ</th>\n",
       "    </tr>\n",
       "  </thead>\n",
       "  <tbody>\n",
       "    <tr>\n",
       "      <th>35</th>\n",
       "      <td>2020</td>\n",
       "      <td>2019-11-04 00:00:00</td>\n",
       "      <td>NA1</td>\n",
       "      <td>NA2</td>\n",
       "      <td>NA3</td>\n",
       "      <td>NA4</td>\n",
       "    </tr>\n",
       "  </tbody>\n",
       "</table>\n",
       "</div>"
      ],
      "text/plain": [
       "    Season              DayZero RegionW RegionX RegionY RegionZ\n",
       "35    2020  2019-11-04 00:00:00     NA1     NA2     NA3     NA4"
      ]
     },
     "execution_count": 103,
     "metadata": {},
     "output_type": "execute_result"
    }
   ],
   "source": [
    "seasons[seasons['RegionZ'] == 'NA4']"
   ]
  },
  {
   "cell_type": "code",
   "execution_count": 105,
   "id": "a4b8a732-e67a-4b8d-817c-2d1a944a6f1d",
   "metadata": {},
   "outputs": [
    {
     "data": {
      "text/html": [
       "<div>\n",
       "<style scoped>\n",
       "    .dataframe tbody tr th:only-of-type {\n",
       "        vertical-align: middle;\n",
       "    }\n",
       "\n",
       "    .dataframe tbody tr th {\n",
       "        vertical-align: top;\n",
       "    }\n",
       "\n",
       "    .dataframe thead th {\n",
       "        text-align: right;\n",
       "    }\n",
       "</style>\n",
       "<table border=\"1\" class=\"dataframe\">\n",
       "  <thead>\n",
       "    <tr style=\"text-align: right;\">\n",
       "      <th></th>\n",
       "      <th>Season</th>\n",
       "      <th>DayZero</th>\n",
       "      <th>RegionW</th>\n",
       "      <th>RegionX</th>\n",
       "      <th>RegionY</th>\n",
       "      <th>RegionZ</th>\n",
       "    </tr>\n",
       "  </thead>\n",
       "  <tbody>\n",
       "    <tr>\n",
       "      <th>37</th>\n",
       "      <td>2022</td>\n",
       "      <td>2021-11-01 00:00:00</td>\n",
       "      <td>TBD</td>\n",
       "      <td>TBD</td>\n",
       "      <td>TBD</td>\n",
       "      <td>TBD</td>\n",
       "    </tr>\n",
       "  </tbody>\n",
       "</table>\n",
       "</div>"
      ],
      "text/plain": [
       "    Season              DayZero RegionW RegionX RegionY RegionZ\n",
       "37    2022  2021-11-01 00:00:00     TBD     TBD     TBD     TBD"
      ]
     },
     "execution_count": 105,
     "metadata": {},
     "output_type": "execute_result"
    }
   ],
   "source": [
    "seasons[seasons['RegionZ'] == 'TBD']"
   ]
  },
  {
   "cell_type": "markdown",
   "id": "623b9993-0467-4334-b52e-19b211956c98",
   "metadata": {},
   "source": [
    "Good find, NA shows information regarding the 2020 tournament which didn't happen. TBD is for this years tournament which hasn't happened yet.\n",
    "\n",
    "As we can see below, all data was shown on the above charts so there is no need to eleminate these (yet) to capture more relevant data. "
   ]
  },
  {
   "cell_type": "code",
   "execution_count": 106,
   "id": "63ab3045-a272-4b88-b7b0-26c0d7c5fe14",
   "metadata": {},
   "outputs": [
    {
     "data": {
      "text/plain": [
       "West            23\n",
       "South            5\n",
       "Southeast        4\n",
       "StLouis          1\n",
       "Syracuse         1\n",
       "WashingtonDC     1\n",
       "Southwest        1\n",
       "NA4              1\n",
       "TBD              1\n",
       "Name: RegionZ, dtype: int64"
      ]
     },
     "execution_count": 106,
     "metadata": {},
     "output_type": "execute_result"
    }
   ],
   "source": [
    "seasons['RegionZ'].value_counts()"
   ]
  },
  {
   "cell_type": "markdown",
   "id": "964b5d4d-61ba-4fc0-a50a-0510693ec99d",
   "metadata": {},
   "source": [
    "### Tourney Seeds"
   ]
  },
  {
   "cell_type": "code",
   "execution_count": 107,
   "id": "89a16cd6-9205-42c4-92ac-d0836962eb44",
   "metadata": {},
   "outputs": [
    {
     "data": {
      "text/html": [
       "<div>\n",
       "<style scoped>\n",
       "    .dataframe tbody tr th:only-of-type {\n",
       "        vertical-align: middle;\n",
       "    }\n",
       "\n",
       "    .dataframe tbody tr th {\n",
       "        vertical-align: top;\n",
       "    }\n",
       "\n",
       "    .dataframe thead th {\n",
       "        text-align: right;\n",
       "    }\n",
       "</style>\n",
       "<table border=\"1\" class=\"dataframe\">\n",
       "  <thead>\n",
       "    <tr style=\"text-align: right;\">\n",
       "      <th></th>\n",
       "      <th>Season</th>\n",
       "      <th>Seed</th>\n",
       "      <th>TeamID</th>\n",
       "    </tr>\n",
       "  </thead>\n",
       "  <tbody>\n",
       "    <tr>\n",
       "      <th>0</th>\n",
       "      <td>1985</td>\n",
       "      <td>W01</td>\n",
       "      <td>1207</td>\n",
       "    </tr>\n",
       "    <tr>\n",
       "      <th>1</th>\n",
       "      <td>1985</td>\n",
       "      <td>W02</td>\n",
       "      <td>1210</td>\n",
       "    </tr>\n",
       "    <tr>\n",
       "      <th>2</th>\n",
       "      <td>1985</td>\n",
       "      <td>W03</td>\n",
       "      <td>1228</td>\n",
       "    </tr>\n",
       "    <tr>\n",
       "      <th>3</th>\n",
       "      <td>1985</td>\n",
       "      <td>W04</td>\n",
       "      <td>1260</td>\n",
       "    </tr>\n",
       "    <tr>\n",
       "      <th>4</th>\n",
       "      <td>1985</td>\n",
       "      <td>W05</td>\n",
       "      <td>1374</td>\n",
       "    </tr>\n",
       "  </tbody>\n",
       "</table>\n",
       "</div>"
      ],
      "text/plain": [
       "   Season Seed  TeamID\n",
       "0    1985  W01    1207\n",
       "1    1985  W02    1210\n",
       "2    1985  W03    1228\n",
       "3    1985  W04    1260\n",
       "4    1985  W05    1374"
      ]
     },
     "execution_count": 107,
     "metadata": {},
     "output_type": "execute_result"
    }
   ],
   "source": [
    "tourney_seeds.head()"
   ]
  },
  {
   "cell_type": "code",
   "execution_count": 111,
   "id": "437672f2-def8-4082-9269-ad6a98e62a94",
   "metadata": {},
   "outputs": [
    {
     "name": "stdout",
     "output_type": "stream",
     "text": [
      "<class 'pandas.core.frame.DataFrame'>\n",
      "RangeIndex: 2354 entries, 0 to 2353\n",
      "Data columns (total 3 columns):\n",
      " #   Column  Non-Null Count  Dtype \n",
      "---  ------  --------------  ----- \n",
      " 0   Season  2354 non-null   int64 \n",
      " 1   Seed    2354 non-null   object\n",
      " 2   TeamID  2354 non-null   int64 \n",
      "dtypes: int64(2), object(1)\n",
      "memory usage: 55.3+ KB\n"
     ]
    }
   ],
   "source": [
    "tourney_seeds.info()"
   ]
  },
  {
   "cell_type": "code",
   "execution_count": 155,
   "id": "32fe3527-b9d0-4812-afa8-9b6ebf5787bb",
   "metadata": {},
   "outputs": [
    {
     "data": {
      "image/png": "[encoded data removed]",
      "text/plain": [
       "<Figure size 432x288 with 1 Axes>"
      ]
     },
     "metadata": {
      "needs_background": "light"
     },
     "output_type": "display_data"
    }
   ],
   "source": [
    "plt.bar(tourney_seeds['Season'].unique(), pd.DataFrame(tourney_seeds['Season'].value_counts()).sort_index()['Season'])\n",
    "plt.title('Year vs Total Teams in Tournament');"
   ]
  },
  {
   "cell_type": "markdown",
   "id": "d27b0dc1-f7a1-4221-92d6-4d7915c122e2",
   "metadata": {},
   "source": [
    "As in most sports we can see the expansion over the years bringing the excitement to the people!\n",
    "\n",
    "I dont see any cleaning that needs to be done in this dataframe. "
   ]
  },
  {
   "cell_type": "markdown",
   "id": "f93756e7-f26e-4db4-97eb-32201ed7e781",
   "metadata": {},
   "source": [
    "### Regular Season Compact Results"
   ]
  },
  {
   "cell_type": "code",
   "execution_count": 157,
   "id": "99947d75-02ea-41a9-a083-5cb3c9de58b3",
   "metadata": {},
   "outputs": [
    {
     "data": {
      "text/html": [
       "<div>\n",
       "<style scoped>\n",
       "    .dataframe tbody tr th:only-of-type {\n",
       "        vertical-align: middle;\n",
       "    }\n",
       "\n",
       "    .dataframe tbody tr th {\n",
       "        vertical-align: top;\n",
       "    }\n",
       "\n",
       "    .dataframe thead th {\n",
       "        text-align: right;\n",
       "    }\n",
       "</style>\n",
       "<table border=\"1\" class=\"dataframe\">\n",
       "  <thead>\n",
       "    <tr style=\"text-align: right;\">\n",
       "      <th></th>\n",
       "      <th>Season</th>\n",
       "      <th>DayNum</th>\n",
       "      <th>WTeamID</th>\n",
       "      <th>WScore</th>\n",
       "      <th>LTeamID</th>\n",
       "      <th>LScore</th>\n",
       "      <th>WLoc</th>\n",
       "      <th>NumOT</th>\n",
       "    </tr>\n",
       "  </thead>\n",
       "  <tbody>\n",
       "    <tr>\n",
       "      <th>0</th>\n",
       "      <td>1985</td>\n",
       "      <td>20</td>\n",
       "      <td>1228</td>\n",
       "      <td>81</td>\n",
       "      <td>1328</td>\n",
       "      <td>64</td>\n",
       "      <td>N</td>\n",
       "      <td>0</td>\n",
       "    </tr>\n",
       "    <tr>\n",
       "      <th>1</th>\n",
       "      <td>1985</td>\n",
       "      <td>25</td>\n",
       "      <td>1106</td>\n",
       "      <td>77</td>\n",
       "      <td>1354</td>\n",
       "      <td>70</td>\n",
       "      <td>H</td>\n",
       "      <td>0</td>\n",
       "    </tr>\n",
       "    <tr>\n",
       "      <th>2</th>\n",
       "      <td>1985</td>\n",
       "      <td>25</td>\n",
       "      <td>1112</td>\n",
       "      <td>63</td>\n",
       "      <td>1223</td>\n",
       "      <td>56</td>\n",
       "      <td>H</td>\n",
       "      <td>0</td>\n",
       "    </tr>\n",
       "    <tr>\n",
       "      <th>3</th>\n",
       "      <td>1985</td>\n",
       "      <td>25</td>\n",
       "      <td>1165</td>\n",
       "      <td>70</td>\n",
       "      <td>1432</td>\n",
       "      <td>54</td>\n",
       "      <td>H</td>\n",
       "      <td>0</td>\n",
       "    </tr>\n",
       "    <tr>\n",
       "      <th>4</th>\n",
       "      <td>1985</td>\n",
       "      <td>25</td>\n",
       "      <td>1192</td>\n",
       "      <td>86</td>\n",
       "      <td>1447</td>\n",
       "      <td>74</td>\n",
       "      <td>H</td>\n",
       "      <td>0</td>\n",
       "    </tr>\n",
       "  </tbody>\n",
       "</table>\n",
       "</div>"
      ],
      "text/plain": [
       "   Season  DayNum  WTeamID  WScore  LTeamID  LScore WLoc  NumOT\n",
       "0    1985      20     1228      81     1328      64    N      0\n",
       "1    1985      25     1106      77     1354      70    H      0\n",
       "2    1985      25     1112      63     1223      56    H      0\n",
       "3    1985      25     1165      70     1432      54    H      0\n",
       "4    1985      25     1192      86     1447      74    H      0"
      ]
     },
     "execution_count": 157,
     "metadata": {},
     "output_type": "execute_result"
    }
   ],
   "source": [
    "reg_season_compact_results.head()"
   ]
  },
  {
   "cell_type": "code",
   "execution_count": 161,
   "id": "cff2516b-21e1-4930-8d73-ab10988a1ec1",
   "metadata": {},
   "outputs": [
    {
     "data": {
      "image/png": "[encoded data removed]",
      "text/plain": [
       "<Figure size 432x288 with 1 Axes>"
      ]
     },
     "metadata": {
      "needs_background": "light"
     },
     "output_type": "display_data"
    }
   ],
   "source": [
    "reg_season_compact_results['WScore'].hist(bins=50);"
   ]
  },
  {
   "cell_type": "code",
   "execution_count": 163,
   "id": "94dcc97d-70b2-4e32-8195-4bed9afa7ae8",
   "metadata": {},
   "outputs": [
    {
     "data": {
      "image/png": "[encoded data removed]",
      "text/plain": [
       "<Figure size 432x288 with 1 Axes>"
      ]
     },
     "metadata": {
      "needs_background": "light"
     },
     "output_type": "display_data"
    }
   ],
   "source": [
    "reg_season_compact_results['LScore'].hist(bins=50);"
   ]
  },
  {
   "cell_type": "markdown",
   "id": "7112be6a-0d5b-44cc-bac0-8502b7504906",
   "metadata": {},
   "source": [
    "Wow, imagine only putting up 34 points in a game and winning! Also, 186 points is impressive."
   ]
  },
  {
   "cell_type": "markdown",
   "id": "60b38327-1c45-4449-bbcb-7c3f36376b8a",
   "metadata": {},
   "source": [
    "### Tournament Compact Results"
   ]
  },
  {
   "cell_type": "code",
   "execution_count": 181,
   "id": "af3f5caf-261b-44af-8f30-95a294eec283",
   "metadata": {},
   "outputs": [
    {
     "data": {
      "text/html": [
       "<div>\n",
       "<style scoped>\n",
       "    .dataframe tbody tr th:only-of-type {\n",
       "        vertical-align: middle;\n",
       "    }\n",
       "\n",
       "    .dataframe tbody tr th {\n",
       "        vertical-align: top;\n",
       "    }\n",
       "\n",
       "    .dataframe thead th {\n",
       "        text-align: right;\n",
       "    }\n",
       "</style>\n",
       "<table border=\"1\" class=\"dataframe\">\n",
       "  <thead>\n",
       "    <tr style=\"text-align: right;\">\n",
       "      <th></th>\n",
       "      <th>Season</th>\n",
       "      <th>DayNum</th>\n",
       "      <th>WTeamID</th>\n",
       "      <th>WScore</th>\n",
       "      <th>LTeamID</th>\n",
       "      <th>LScore</th>\n",
       "      <th>WLoc</th>\n",
       "      <th>NumOT</th>\n",
       "    </tr>\n",
       "  </thead>\n",
       "  <tbody>\n",
       "    <tr>\n",
       "      <th>0</th>\n",
       "      <td>1985</td>\n",
       "      <td>136</td>\n",
       "      <td>1116</td>\n",
       "      <td>63</td>\n",
       "      <td>1234</td>\n",
       "      <td>54</td>\n",
       "      <td>N</td>\n",
       "      <td>0</td>\n",
       "    </tr>\n",
       "    <tr>\n",
       "      <th>1</th>\n",
       "      <td>1985</td>\n",
       "      <td>136</td>\n",
       "      <td>1120</td>\n",
       "      <td>59</td>\n",
       "      <td>1345</td>\n",
       "      <td>58</td>\n",
       "      <td>N</td>\n",
       "      <td>0</td>\n",
       "    </tr>\n",
       "    <tr>\n",
       "      <th>2</th>\n",
       "      <td>1985</td>\n",
       "      <td>136</td>\n",
       "      <td>1207</td>\n",
       "      <td>68</td>\n",
       "      <td>1250</td>\n",
       "      <td>43</td>\n",
       "      <td>N</td>\n",
       "      <td>0</td>\n",
       "    </tr>\n",
       "    <tr>\n",
       "      <th>3</th>\n",
       "      <td>1985</td>\n",
       "      <td>136</td>\n",
       "      <td>1229</td>\n",
       "      <td>58</td>\n",
       "      <td>1425</td>\n",
       "      <td>55</td>\n",
       "      <td>N</td>\n",
       "      <td>0</td>\n",
       "    </tr>\n",
       "    <tr>\n",
       "      <th>4</th>\n",
       "      <td>1985</td>\n",
       "      <td>136</td>\n",
       "      <td>1242</td>\n",
       "      <td>49</td>\n",
       "      <td>1325</td>\n",
       "      <td>38</td>\n",
       "      <td>N</td>\n",
       "      <td>0</td>\n",
       "    </tr>\n",
       "  </tbody>\n",
       "</table>\n",
       "</div>"
      ],
      "text/plain": [
       "   Season  DayNum  WTeamID  WScore  LTeamID  LScore WLoc  NumOT\n",
       "0    1985     136     1116      63     1234      54    N      0\n",
       "1    1985     136     1120      59     1345      58    N      0\n",
       "2    1985     136     1207      68     1250      43    N      0\n",
       "3    1985     136     1229      58     1425      55    N      0\n",
       "4    1985     136     1242      49     1325      38    N      0"
      ]
     },
     "execution_count": 181,
     "metadata": {},
     "output_type": "execute_result"
    }
   ],
   "source": [
    "tourney_compact_results.head()"
   ]
  },
  {
   "cell_type": "code",
   "execution_count": 184,
   "id": "a69d0475-9c21-432f-8494-90199a990142",
   "metadata": {},
   "outputs": [
    {
     "data": {
      "image/png": "[encoded data removed]",
      "text/plain": [
       "<Figure size 432x288 with 1 Axes>"
      ]
     },
     "metadata": {
      "needs_background": "light"
     },
     "output_type": "display_data"
    }
   ],
   "source": [
    "tourney_compact_results['WScore'].hist(bins=50);"
   ]
  },
  {
   "cell_type": "code",
   "execution_count": 217,
   "id": "04b2f5d1-12cd-4ca7-984a-dca1f7d5d0db",
   "metadata": {},
   "outputs": [
    {
     "data": {
      "image/png": "[encoded data removed]",
      "text/plain": [
       "<Figure size 432x288 with 1 Axes>"
      ]
     },
     "metadata": {
      "needs_background": "light"
     },
     "output_type": "display_data"
    }
   ],
   "source": [
    "tourney_compact_results['LScore'].hist(bins=50);"
   ]
  },
  {
   "cell_type": "code",
   "execution_count": 197,
   "id": "47a2a797-8756-4ba8-9f4a-f4ddec06a981",
   "metadata": {},
   "outputs": [
    {
     "name": "stdout",
     "output_type": "stream",
     "text": [
      "Regular Season\n",
      "Average Winning Score: 76.76\n",
      "Standard Deviation for Winning Score: 11.96\n",
      "\n",
      "NCAA Tournament\n",
      "Average Winning Score: 76.89\n",
      "Standard Deviation for Winning Score: 11.84\n",
      "\n",
      "Regular Season\n",
      "Average Losing Score: 64.66\n",
      "Standard Deviation for Losing Score: 11.28\n",
      "\n",
      "NCAA Tournament\n",
      "Average Losing Score: 65.17\n",
      "Standard Deviation for Losing Score: 11.06\n",
      "\n",
      "================================================================\n",
      "\n",
      "Winning Vs Losing Scores\n",
      "\n",
      "Regular Season\n",
      "The most points in a win is: 186\n",
      "The most points in a loss is: 150\n",
      "\n",
      "NCAA Tournament\n",
      "The most points in a win is: 149\n",
      "The most points in a loss is: 115\n",
      "\n",
      "Regular Season\n",
      "The least points in a win is: 34\n",
      "The least points in a loss is: 20\n",
      "\n",
      "NCAA Tournament\n",
      "The least points in a win is: 43\n",
      "The least points in a loss is: 29\n"
     ]
    }
   ],
   "source": [
    "print('Regular Season')\n",
    "print(f\"Average Winning Score: {round(reg_season_compact_results['WScore'].mean(), 2)}\")\n",
    "print(f\"Standard Deviation for Winning Score: {round(reg_season_compact_results['WScore'].std(), 2)}\")\n",
    "print('')\n",
    "print('NCAA Tournament')\n",
    "print(f\"Average Winning Score: {round(tourney_compact_results['WScore'].mean(), 2)}\")\n",
    "print(f\"Standard Deviation for Winning Score: {round(tourney_compact_results['WScore'].std(), 2)}\")\n",
    "print('')\n",
    "print('Regular Season')\n",
    "print(f\"Average Losing Score: {round(reg_season_compact_results['LScore'].mean(), 2)}\")\n",
    "print(f\"Standard Deviation for Losing Score: {round(reg_season_compact_results['LScore'].std(), 2)}\")\n",
    "print('')\n",
    "print('NCAA Tournament')\n",
    "print(f\"Average Losing Score: {round(tourney_compact_results['LScore'].mean(), 2)}\")\n",
    "print(f\"Standard Deviation for Losing Score: {round(tourney_compact_results['LScore'].std(), 2)}\")\n",
    "print('')\n",
    "print('='*64)\n",
    "print('')\n",
    "print('Winning Vs Losing Scores')\n",
    "print('')\n",
    "print('Regular Season')\n",
    "print(f\"The most points in a win is: {max(reg_season_compact_results['WScore'])}\")\n",
    "print(f\"The most points in a loss is: {max(reg_season_compact_results['LScore'])}\")\n",
    "print('')\n",
    "print('NCAA Tournament')\n",
    "print(f\"The most points in a win is: {max(tourney_compact_results['WScore'])}\")\n",
    "print(f\"The most points in a loss is: {max(tourney_compact_results['LScore'])}\")\n",
    "print('')\n",
    "print('Regular Season')\n",
    "print(f\"The least points in a win is: {min(reg_season_compact_results['WScore'])}\")\n",
    "print(f\"The least points in a loss is: {min(reg_season_compact_results['LScore'])}\")\n",
    "print('')\n",
    "print('NCAA Tournament')\n",
    "print(f\"The least points in a win is: {min(tourney_compact_results['WScore'])}\")\n",
    "print(f\"The least points in a loss is: {min(tourney_compact_results['LScore'])}\")"
   ]
  },
  {
   "cell_type": "markdown",
   "id": "5e801215-c839-452a-b635-8c9cd6ae5413",
   "metadata": {},
   "source": [
    "Interesting comparison, you can see the average score is slightly higher with a tighter standard deviation for both winning and losing scores. I'm surprised by the low points during the NCAA tournament.\n",
    "\n",
    "All of the tournament games have been played at a neutral facility. How big of an impact do home games have during the regular season?"
   ]
  },
  {
   "cell_type": "code",
   "execution_count": 215,
   "id": "ad4dc97c-f95b-43dc-a182-2db83560732d",
   "metadata": {},
   "outputs": [
    {
     "name": "stdout",
     "output_type": "stream",
     "text": [
      "The winner win's at home 59.0% of the time including neutral sites\n"
     ]
    },
    {
     "data": {
      "image/png": "[encoded data removed]",
      "text/plain": [
       "<Figure size 432x288 with 1 Axes>"
      ]
     },
     "metadata": {
      "needs_background": "light"
     },
     "output_type": "display_data"
    }
   ],
   "source": [
    "df = pd.DataFrame(reg_season_compact_results['WLoc'].value_counts())\n",
    "plt.bar(df.index, df['WLoc'])\n",
    "plt.title(\"Winner's Location (Home, Away, Neutral)\");\n",
    "print(f\"The winner win's at home {round(df['WLoc'][0]/df['WLoc'].sum(), 2) * 100}% of the time including neutral sites\")"
   ]
  },
  {
   "cell_type": "markdown",
   "id": "a8551fbe-ea80-4c42-be3a-9ac74d07483b",
   "metadata": {},
   "source": [
    "### Regular Season Detailed Results"
   ]
  },
  {
   "cell_type": "code",
   "execution_count": 219,
   "id": "d122a809-1c61-4445-8064-504d85b9a18b",
   "metadata": {},
   "outputs": [
    {
     "data": {
      "text/html": [
       "<div>\n",
       "<style scoped>\n",
       "    .dataframe tbody tr th:only-of-type {\n",
       "        vertical-align: middle;\n",
       "    }\n",
       "\n",
       "    .dataframe tbody tr th {\n",
       "        vertical-align: top;\n",
       "    }\n",
       "\n",
       "    .dataframe thead th {\n",
       "        text-align: right;\n",
       "    }\n",
       "</style>\n",
       "<table border=\"1\" class=\"dataframe\">\n",
       "  <thead>\n",
       "    <tr style=\"text-align: right;\">\n",
       "      <th></th>\n",
       "      <th>Season</th>\n",
       "      <th>DayNum</th>\n",
       "      <th>WTeamID</th>\n",
       "      <th>WScore</th>\n",
       "      <th>LTeamID</th>\n",
       "      <th>LScore</th>\n",
       "      <th>WLoc</th>\n",
       "      <th>NumOT</th>\n",
       "      <th>WFGM</th>\n",
       "      <th>WFGA</th>\n",
       "      <th>...</th>\n",
       "      <th>LFGA3</th>\n",
       "      <th>LFTM</th>\n",
       "      <th>LFTA</th>\n",
       "      <th>LOR</th>\n",
       "      <th>LDR</th>\n",
       "      <th>LAst</th>\n",
       "      <th>LTO</th>\n",
       "      <th>LStl</th>\n",
       "      <th>LBlk</th>\n",
       "      <th>LPF</th>\n",
       "    </tr>\n",
       "  </thead>\n",
       "  <tbody>\n",
       "    <tr>\n",
       "      <th>0</th>\n",
       "      <td>2003</td>\n",
       "      <td>10</td>\n",
       "      <td>1104</td>\n",
       "      <td>68</td>\n",
       "      <td>1328</td>\n",
       "      <td>62</td>\n",
       "      <td>N</td>\n",
       "      <td>0</td>\n",
       "      <td>27</td>\n",
       "      <td>58</td>\n",
       "      <td>...</td>\n",
       "      <td>10</td>\n",
       "      <td>16</td>\n",
       "      <td>22</td>\n",
       "      <td>10</td>\n",
       "      <td>22</td>\n",
       "      <td>8</td>\n",
       "      <td>18</td>\n",
       "      <td>9</td>\n",
       "      <td>2</td>\n",
       "      <td>20</td>\n",
       "    </tr>\n",
       "    <tr>\n",
       "      <th>1</th>\n",
       "      <td>2003</td>\n",
       "      <td>10</td>\n",
       "      <td>1272</td>\n",
       "      <td>70</td>\n",
       "      <td>1393</td>\n",
       "      <td>63</td>\n",
       "      <td>N</td>\n",
       "      <td>0</td>\n",
       "      <td>26</td>\n",
       "      <td>62</td>\n",
       "      <td>...</td>\n",
       "      <td>24</td>\n",
       "      <td>9</td>\n",
       "      <td>20</td>\n",
       "      <td>20</td>\n",
       "      <td>25</td>\n",
       "      <td>7</td>\n",
       "      <td>12</td>\n",
       "      <td>8</td>\n",
       "      <td>6</td>\n",
       "      <td>16</td>\n",
       "    </tr>\n",
       "    <tr>\n",
       "      <th>2</th>\n",
       "      <td>2003</td>\n",
       "      <td>11</td>\n",
       "      <td>1266</td>\n",
       "      <td>73</td>\n",
       "      <td>1437</td>\n",
       "      <td>61</td>\n",
       "      <td>N</td>\n",
       "      <td>0</td>\n",
       "      <td>24</td>\n",
       "      <td>58</td>\n",
       "      <td>...</td>\n",
       "      <td>26</td>\n",
       "      <td>14</td>\n",
       "      <td>23</td>\n",
       "      <td>31</td>\n",
       "      <td>22</td>\n",
       "      <td>9</td>\n",
       "      <td>12</td>\n",
       "      <td>2</td>\n",
       "      <td>5</td>\n",
       "      <td>23</td>\n",
       "    </tr>\n",
       "    <tr>\n",
       "      <th>3</th>\n",
       "      <td>2003</td>\n",
       "      <td>11</td>\n",
       "      <td>1296</td>\n",
       "      <td>56</td>\n",
       "      <td>1457</td>\n",
       "      <td>50</td>\n",
       "      <td>N</td>\n",
       "      <td>0</td>\n",
       "      <td>18</td>\n",
       "      <td>38</td>\n",
       "      <td>...</td>\n",
       "      <td>22</td>\n",
       "      <td>8</td>\n",
       "      <td>15</td>\n",
       "      <td>17</td>\n",
       "      <td>20</td>\n",
       "      <td>9</td>\n",
       "      <td>19</td>\n",
       "      <td>4</td>\n",
       "      <td>3</td>\n",
       "      <td>23</td>\n",
       "    </tr>\n",
       "    <tr>\n",
       "      <th>4</th>\n",
       "      <td>2003</td>\n",
       "      <td>11</td>\n",
       "      <td>1400</td>\n",
       "      <td>77</td>\n",
       "      <td>1208</td>\n",
       "      <td>71</td>\n",
       "      <td>N</td>\n",
       "      <td>0</td>\n",
       "      <td>30</td>\n",
       "      <td>61</td>\n",
       "      <td>...</td>\n",
       "      <td>16</td>\n",
       "      <td>17</td>\n",
       "      <td>27</td>\n",
       "      <td>21</td>\n",
       "      <td>15</td>\n",
       "      <td>12</td>\n",
       "      <td>10</td>\n",
       "      <td>7</td>\n",
       "      <td>1</td>\n",
       "      <td>14</td>\n",
       "    </tr>\n",
       "  </tbody>\n",
       "</table>\n",
       "<p>5 rows × 34 columns</p>\n",
       "</div>"
      ],
      "text/plain": [
       "   Season  DayNum  WTeamID  WScore  LTeamID  LScore WLoc  NumOT  WFGM  WFGA  \\\n",
       "0    2003      10     1104      68     1328      62    N      0    27    58   \n",
       "1    2003      10     1272      70     1393      63    N      0    26    62   \n",
       "2    2003      11     1266      73     1437      61    N      0    24    58   \n",
       "3    2003      11     1296      56     1457      50    N      0    18    38   \n",
       "4    2003      11     1400      77     1208      71    N      0    30    61   \n",
       "\n",
       "   ...  LFGA3  LFTM  LFTA  LOR  LDR  LAst  LTO  LStl  LBlk  LPF  \n",
       "0  ...     10    16    22   10   22     8   18     9     2   20  \n",
       "1  ...     24     9    20   20   25     7   12     8     6   16  \n",
       "2  ...     26    14    23   31   22     9   12     2     5   23  \n",
       "3  ...     22     8    15   17   20     9   19     4     3   23  \n",
       "4  ...     16    17    27   21   15    12   10     7     1   14  \n",
       "\n",
       "[5 rows x 34 columns]"
      ]
     },
     "execution_count": 219,
     "metadata": {},
     "output_type": "execute_result"
    }
   ],
   "source": [
    "reg_season_detailed_results.head()"
   ]
  },
  {
   "cell_type": "code",
   "execution_count": 226,
   "id": "be46da90-5b79-4d35-bfc1-8235e6e047a8",
   "metadata": {},
   "outputs": [
    {
     "name": "stdout",
     "output_type": "stream",
     "text": [
      "<class 'pandas.core.frame.DataFrame'>\n",
      "RangeIndex: 100423 entries, 0 to 100422\n",
      "Data columns (total 34 columns):\n",
      " #   Column   Non-Null Count   Dtype \n",
      "---  ------   --------------   ----- \n",
      " 0   Season   100423 non-null  int64 \n",
      " 1   DayNum   100423 non-null  int64 \n",
      " 2   WTeamID  100423 non-null  int64 \n",
      " 3   WScore   100423 non-null  int64 \n",
      " 4   LTeamID  100423 non-null  int64 \n",
      " 5   LScore   100423 non-null  int64 \n",
      " 6   WLoc     100423 non-null  object\n",
      " 7   NumOT    100423 non-null  int64 \n",
      " 8   WFGM     100423 non-null  int64 \n",
      " 9   WFGA     100423 non-null  int64 \n",
      " 10  WFGM3    100423 non-null  int64 \n",
      " 11  WFGA3    100423 non-null  int64 \n",
      " 12  WFTM     100423 non-null  int64 \n",
      " 13  WFTA     100423 non-null  int64 \n",
      " 14  WOR      100423 non-null  int64 \n",
      " 15  WDR      100423 non-null  int64 \n",
      " 16  WAst     100423 non-null  int64 \n",
      " 17  WTO      100423 non-null  int64 \n",
      " 18  WStl     100423 non-null  int64 \n",
      " 19  WBlk     100423 non-null  int64 \n",
      " 20  WPF      100423 non-null  int64 \n",
      " 21  LFGM     100423 non-null  int64 \n",
      " 22  LFGA     100423 non-null  int64 \n",
      " 23  LFGM3    100423 non-null  int64 \n",
      " 24  LFGA3    100423 non-null  int64 \n",
      " 25  LFTM     100423 non-null  int64 \n",
      " 26  LFTA     100423 non-null  int64 \n",
      " 27  LOR      100423 non-null  int64 \n",
      " 28  LDR      100423 non-null  int64 \n",
      " 29  LAst     100423 non-null  int64 \n",
      " 30  LTO      100423 non-null  int64 \n",
      " 31  LStl     100423 non-null  int64 \n",
      " 32  LBlk     100423 non-null  int64 \n",
      " 33  LPF      100423 non-null  int64 \n",
      "dtypes: int64(33), object(1)\n",
      "memory usage: 26.0+ MB\n"
     ]
    }
   ],
   "source": [
    "reg_season_detailed_results.info()"
   ]
  },
  {
   "cell_type": "code",
   "execution_count": 243,
   "id": "b6c56f05-1038-4e12-baa5-f5b1b810e062",
   "metadata": {},
   "outputs": [
    {
     "data": {
      "image/png": "[encoded data removed]",
      "text/plain": [
       "<Figure size 1800x5400 with 29 Axes>"
      ]
     },
     "metadata": {
      "needs_background": "light"
     },
     "output_type": "display_data"
    }
   ],
   "source": [
    "wanted_cols = reg_season_detailed_results.drop(['DayNum', 'WTeamID', 'LTeamID'], axis=1).groupby('Season').mean()\n",
    "\n",
    "x=1\n",
    "fig = plt.figure(figsize=(25, 75))\n",
    "for col in wanted_cols:\n",
    "    fig.add_subplot(15,5,x)\n",
    "    plt.title(col)\n",
    "    plt.bar(wanted_cols.index, wanted_cols[col])\n",
    "    x += 1"
   ]
  },
  {
   "cell_type": "markdown",
   "id": "31e5d2b6-4c27-4e8e-a82e-8313abc0e825",
   "metadata": {},
   "source": [
    "### Tourney Detailed Results"
   ]
  },
  {
   "cell_type": "code",
   "execution_count": 245,
   "id": "8f2ba4a0-809e-4814-be6c-09c593989896",
   "metadata": {},
   "outputs": [
    {
     "data": {
      "text/html": [
       "<div>\n",
       "<style scoped>\n",
       "    .dataframe tbody tr th:only-of-type {\n",
       "        vertical-align: middle;\n",
       "    }\n",
       "\n",
       "    .dataframe tbody tr th {\n",
       "        vertical-align: top;\n",
       "    }\n",
       "\n",
       "    .dataframe thead th {\n",
       "        text-align: right;\n",
       "    }\n",
       "</style>\n",
       "<table border=\"1\" class=\"dataframe\">\n",
       "  <thead>\n",
       "    <tr style=\"text-align: right;\">\n",
       "      <th></th>\n",
       "      <th>Season</th>\n",
       "      <th>DayNum</th>\n",
       "      <th>WTeamID</th>\n",
       "      <th>WScore</th>\n",
       "      <th>LTeamID</th>\n",
       "      <th>LScore</th>\n",
       "      <th>WLoc</th>\n",
       "      <th>NumOT</th>\n",
       "      <th>WFGM</th>\n",
       "      <th>WFGA</th>\n",
       "      <th>...</th>\n",
       "      <th>LFGA3</th>\n",
       "      <th>LFTM</th>\n",
       "      <th>LFTA</th>\n",
       "      <th>LOR</th>\n",
       "      <th>LDR</th>\n",
       "      <th>LAst</th>\n",
       "      <th>LTO</th>\n",
       "      <th>LStl</th>\n",
       "      <th>LBlk</th>\n",
       "      <th>LPF</th>\n",
       "    </tr>\n",
       "  </thead>\n",
       "  <tbody>\n",
       "    <tr>\n",
       "      <th>0</th>\n",
       "      <td>2003</td>\n",
       "      <td>134</td>\n",
       "      <td>1421</td>\n",
       "      <td>92</td>\n",
       "      <td>1411</td>\n",
       "      <td>84</td>\n",
       "      <td>N</td>\n",
       "      <td>1</td>\n",
       "      <td>32</td>\n",
       "      <td>69</td>\n",
       "      <td>...</td>\n",
       "      <td>31</td>\n",
       "      <td>14</td>\n",
       "      <td>31</td>\n",
       "      <td>17</td>\n",
       "      <td>28</td>\n",
       "      <td>16</td>\n",
       "      <td>15</td>\n",
       "      <td>5</td>\n",
       "      <td>0</td>\n",
       "      <td>22</td>\n",
       "    </tr>\n",
       "    <tr>\n",
       "      <th>1</th>\n",
       "      <td>2003</td>\n",
       "      <td>136</td>\n",
       "      <td>1112</td>\n",
       "      <td>80</td>\n",
       "      <td>1436</td>\n",
       "      <td>51</td>\n",
       "      <td>N</td>\n",
       "      <td>0</td>\n",
       "      <td>31</td>\n",
       "      <td>66</td>\n",
       "      <td>...</td>\n",
       "      <td>16</td>\n",
       "      <td>7</td>\n",
       "      <td>7</td>\n",
       "      <td>8</td>\n",
       "      <td>26</td>\n",
       "      <td>12</td>\n",
       "      <td>17</td>\n",
       "      <td>10</td>\n",
       "      <td>3</td>\n",
       "      <td>15</td>\n",
       "    </tr>\n",
       "    <tr>\n",
       "      <th>2</th>\n",
       "      <td>2003</td>\n",
       "      <td>136</td>\n",
       "      <td>1113</td>\n",
       "      <td>84</td>\n",
       "      <td>1272</td>\n",
       "      <td>71</td>\n",
       "      <td>N</td>\n",
       "      <td>0</td>\n",
       "      <td>31</td>\n",
       "      <td>59</td>\n",
       "      <td>...</td>\n",
       "      <td>28</td>\n",
       "      <td>14</td>\n",
       "      <td>21</td>\n",
       "      <td>20</td>\n",
       "      <td>22</td>\n",
       "      <td>11</td>\n",
       "      <td>12</td>\n",
       "      <td>2</td>\n",
       "      <td>5</td>\n",
       "      <td>18</td>\n",
       "    </tr>\n",
       "    <tr>\n",
       "      <th>3</th>\n",
       "      <td>2003</td>\n",
       "      <td>136</td>\n",
       "      <td>1141</td>\n",
       "      <td>79</td>\n",
       "      <td>1166</td>\n",
       "      <td>73</td>\n",
       "      <td>N</td>\n",
       "      <td>0</td>\n",
       "      <td>29</td>\n",
       "      <td>53</td>\n",
       "      <td>...</td>\n",
       "      <td>17</td>\n",
       "      <td>12</td>\n",
       "      <td>17</td>\n",
       "      <td>14</td>\n",
       "      <td>17</td>\n",
       "      <td>20</td>\n",
       "      <td>21</td>\n",
       "      <td>6</td>\n",
       "      <td>6</td>\n",
       "      <td>21</td>\n",
       "    </tr>\n",
       "    <tr>\n",
       "      <th>4</th>\n",
       "      <td>2003</td>\n",
       "      <td>136</td>\n",
       "      <td>1143</td>\n",
       "      <td>76</td>\n",
       "      <td>1301</td>\n",
       "      <td>74</td>\n",
       "      <td>N</td>\n",
       "      <td>1</td>\n",
       "      <td>27</td>\n",
       "      <td>64</td>\n",
       "      <td>...</td>\n",
       "      <td>21</td>\n",
       "      <td>15</td>\n",
       "      <td>20</td>\n",
       "      <td>10</td>\n",
       "      <td>26</td>\n",
       "      <td>16</td>\n",
       "      <td>14</td>\n",
       "      <td>5</td>\n",
       "      <td>8</td>\n",
       "      <td>19</td>\n",
       "    </tr>\n",
       "  </tbody>\n",
       "</table>\n",
       "<p>5 rows × 34 columns</p>\n",
       "</div>"
      ],
      "text/plain": [
       "   Season  DayNum  WTeamID  WScore  LTeamID  LScore WLoc  NumOT  WFGM  WFGA  \\\n",
       "0    2003     134     1421      92     1411      84    N      1    32    69   \n",
       "1    2003     136     1112      80     1436      51    N      0    31    66   \n",
       "2    2003     136     1113      84     1272      71    N      0    31    59   \n",
       "3    2003     136     1141      79     1166      73    N      0    29    53   \n",
       "4    2003     136     1143      76     1301      74    N      1    27    64   \n",
       "\n",
       "   ...  LFGA3  LFTM  LFTA  LOR  LDR  LAst  LTO  LStl  LBlk  LPF  \n",
       "0  ...     31    14    31   17   28    16   15     5     0   22  \n",
       "1  ...     16     7     7    8   26    12   17    10     3   15  \n",
       "2  ...     28    14    21   20   22    11   12     2     5   18  \n",
       "3  ...     17    12    17   14   17    20   21     6     6   21  \n",
       "4  ...     21    15    20   10   26    16   14     5     8   19  \n",
       "\n",
       "[5 rows x 34 columns]"
      ]
     },
     "execution_count": 245,
     "metadata": {},
     "output_type": "execute_result"
    }
   ],
   "source": [
    "tourney_detailed_results.head()"
   ]
  },
  {
   "cell_type": "code",
   "execution_count": 246,
   "id": "e8dbbfc0-0568-4c8b-a86c-03686c903187",
   "metadata": {},
   "outputs": [
    {
     "name": "stdout",
     "output_type": "stream",
     "text": [
      "<class 'pandas.core.frame.DataFrame'>\n",
      "RangeIndex: 1181 entries, 0 to 1180\n",
      "Data columns (total 34 columns):\n",
      " #   Column   Non-Null Count  Dtype \n",
      "---  ------   --------------  ----- \n",
      " 0   Season   1181 non-null   int64 \n",
      " 1   DayNum   1181 non-null   int64 \n",
      " 2   WTeamID  1181 non-null   int64 \n",
      " 3   WScore   1181 non-null   int64 \n",
      " 4   LTeamID  1181 non-null   int64 \n",
      " 5   LScore   1181 non-null   int64 \n",
      " 6   WLoc     1181 non-null   object\n",
      " 7   NumOT    1181 non-null   int64 \n",
      " 8   WFGM     1181 non-null   int64 \n",
      " 9   WFGA     1181 non-null   int64 \n",
      " 10  WFGM3    1181 non-null   int64 \n",
      " 11  WFGA3    1181 non-null   int64 \n",
      " 12  WFTM     1181 non-null   int64 \n",
      " 13  WFTA     1181 non-null   int64 \n",
      " 14  WOR      1181 non-null   int64 \n",
      " 15  WDR      1181 non-null   int64 \n",
      " 16  WAst     1181 non-null   int64 \n",
      " 17  WTO      1181 non-null   int64 \n",
      " 18  WStl     1181 non-null   int64 \n",
      " 19  WBlk     1181 non-null   int64 \n",
      " 20  WPF      1181 non-null   int64 \n",
      " 21  LFGM     1181 non-null   int64 \n",
      " 22  LFGA     1181 non-null   int64 \n",
      " 23  LFGM3    1181 non-null   int64 \n",
      " 24  LFGA3    1181 non-null   int64 \n",
      " 25  LFTM     1181 non-null   int64 \n",
      " 26  LFTA     1181 non-null   int64 \n",
      " 27  LOR      1181 non-null   int64 \n",
      " 28  LDR      1181 non-null   int64 \n",
      " 29  LAst     1181 non-null   int64 \n",
      " 30  LTO      1181 non-null   int64 \n",
      " 31  LStl     1181 non-null   int64 \n",
      " 32  LBlk     1181 non-null   int64 \n",
      " 33  LPF      1181 non-null   int64 \n",
      "dtypes: int64(33), object(1)\n",
      "memory usage: 313.8+ KB\n"
     ]
    }
   ],
   "source": [
    "tourney_detailed_results.info()"
   ]
  },
  {
   "cell_type": "code",
   "execution_count": 247,
   "id": "319879d1-5621-4250-b1c5-f78fcf4594f8",
   "metadata": {},
   "outputs": [
    {
     "data": {
      "image/png": "[encoded data removed]",
      "text/plain": [
       "<Figure size 1800x5400 with 29 Axes>"
      ]
     },
     "metadata": {
      "needs_background": "light"
     },
     "output_type": "display_data"
    }
   ],
   "source": [
    "wanted_cols = tourney_detailed_results.drop(['DayNum', 'WTeamID', 'LTeamID'], axis=1).groupby('Season').mean()\n",
    "\n",
    "x=1\n",
    "fig = plt.figure(figsize=(25, 75))\n",
    "for col in wanted_cols:\n",
    "    fig.add_subplot(15,5,x)\n",
    "    plt.title(col)\n",
    "    plt.bar(wanted_cols.index, wanted_cols[col])\n",
    "    x += 1"
   ]
  },
  {
   "cell_type": "markdown",
   "id": "2e761414-b6c0-4553-ab6b-ae6e4b400158",
   "metadata": {},
   "source": [
    "### Cities\n",
    "\n",
    "During Feature Engineering we will at latitude, longitude, and (hopefully) elevation. It'd be interesting to see how much of an impact this will have on our model. "
   ]
  },
  {
   "cell_type": "code",
   "execution_count": 250,
   "id": "303e0793-0b3d-419b-9549-ccc6455725c4",
   "metadata": {},
   "outputs": [
    {
     "data": {
      "text/html": [
       "<div>\n",
       "<style scoped>\n",
       "    .dataframe tbody tr th:only-of-type {\n",
       "        vertical-align: middle;\n",
       "    }\n",
       "\n",
       "    .dataframe tbody tr th {\n",
       "        vertical-align: top;\n",
       "    }\n",
       "\n",
       "    .dataframe thead th {\n",
       "        text-align: right;\n",
       "    }\n",
       "</style>\n",
       "<table border=\"1\" class=\"dataframe\">\n",
       "  <thead>\n",
       "    <tr style=\"text-align: right;\">\n",
       "      <th></th>\n",
       "      <th>CityID</th>\n",
       "      <th>City</th>\n",
       "      <th>State</th>\n",
       "    </tr>\n",
       "  </thead>\n",
       "  <tbody>\n",
       "    <tr>\n",
       "      <th>0</th>\n",
       "      <td>4001</td>\n",
       "      <td>Abilene</td>\n",
       "      <td>TX</td>\n",
       "    </tr>\n",
       "    <tr>\n",
       "      <th>1</th>\n",
       "      <td>4002</td>\n",
       "      <td>Akron</td>\n",
       "      <td>OH</td>\n",
       "    </tr>\n",
       "    <tr>\n",
       "      <th>2</th>\n",
       "      <td>4003</td>\n",
       "      <td>Albany</td>\n",
       "      <td>NY</td>\n",
       "    </tr>\n",
       "    <tr>\n",
       "      <th>3</th>\n",
       "      <td>4004</td>\n",
       "      <td>Albuquerque</td>\n",
       "      <td>NM</td>\n",
       "    </tr>\n",
       "    <tr>\n",
       "      <th>4</th>\n",
       "      <td>4005</td>\n",
       "      <td>Allentown</td>\n",
       "      <td>PA</td>\n",
       "    </tr>\n",
       "  </tbody>\n",
       "</table>\n",
       "</div>"
      ],
      "text/plain": [
       "   CityID         City State\n",
       "0    4001      Abilene    TX\n",
       "1    4002        Akron    OH\n",
       "2    4003       Albany    NY\n",
       "3    4004  Albuquerque    NM\n",
       "4    4005    Allentown    PA"
      ]
     },
     "execution_count": 250,
     "metadata": {},
     "output_type": "execute_result"
    }
   ],
   "source": [
    "cities.head()"
   ]
  },
  {
   "cell_type": "markdown",
   "id": "6128897f-c34e-4938-95eb-a15c4e5647f6",
   "metadata": {},
   "source": [
    "### Game Cities"
   ]
  },
  {
   "cell_type": "code",
   "execution_count": 252,
   "id": "5cdd56e0-a215-4c21-923d-007b986a6329",
   "metadata": {},
   "outputs": [
    {
     "data": {
      "text/html": [
       "<div>\n",
       "<style scoped>\n",
       "    .dataframe tbody tr th:only-of-type {\n",
       "        vertical-align: middle;\n",
       "    }\n",
       "\n",
       "    .dataframe tbody tr th {\n",
       "        vertical-align: top;\n",
       "    }\n",
       "\n",
       "    .dataframe thead th {\n",
       "        text-align: right;\n",
       "    }\n",
       "</style>\n",
       "<table border=\"1\" class=\"dataframe\">\n",
       "  <thead>\n",
       "    <tr style=\"text-align: right;\">\n",
       "      <th></th>\n",
       "      <th>Season</th>\n",
       "      <th>DayNum</th>\n",
       "      <th>WTeamID</th>\n",
       "      <th>LTeamID</th>\n",
       "      <th>CRType</th>\n",
       "      <th>CityID</th>\n",
       "    </tr>\n",
       "  </thead>\n",
       "  <tbody>\n",
       "    <tr>\n",
       "      <th>0</th>\n",
       "      <td>2010</td>\n",
       "      <td>7</td>\n",
       "      <td>1143</td>\n",
       "      <td>1293</td>\n",
       "      <td>Regular</td>\n",
       "      <td>4027</td>\n",
       "    </tr>\n",
       "    <tr>\n",
       "      <th>1</th>\n",
       "      <td>2010</td>\n",
       "      <td>7</td>\n",
       "      <td>1314</td>\n",
       "      <td>1198</td>\n",
       "      <td>Regular</td>\n",
       "      <td>4061</td>\n",
       "    </tr>\n",
       "    <tr>\n",
       "      <th>2</th>\n",
       "      <td>2010</td>\n",
       "      <td>7</td>\n",
       "      <td>1326</td>\n",
       "      <td>1108</td>\n",
       "      <td>Regular</td>\n",
       "      <td>4080</td>\n",
       "    </tr>\n",
       "    <tr>\n",
       "      <th>3</th>\n",
       "      <td>2010</td>\n",
       "      <td>7</td>\n",
       "      <td>1393</td>\n",
       "      <td>1107</td>\n",
       "      <td>Regular</td>\n",
       "      <td>4340</td>\n",
       "    </tr>\n",
       "    <tr>\n",
       "      <th>4</th>\n",
       "      <td>2010</td>\n",
       "      <td>9</td>\n",
       "      <td>1143</td>\n",
       "      <td>1178</td>\n",
       "      <td>Regular</td>\n",
       "      <td>4027</td>\n",
       "    </tr>\n",
       "  </tbody>\n",
       "</table>\n",
       "</div>"
      ],
      "text/plain": [
       "   Season  DayNum  WTeamID  LTeamID   CRType  CityID\n",
       "0    2010       7     1143     1293  Regular    4027\n",
       "1    2010       7     1314     1198  Regular    4061\n",
       "2    2010       7     1326     1108  Regular    4080\n",
       "3    2010       7     1393     1107  Regular    4340\n",
       "4    2010       9     1143     1178  Regular    4027"
      ]
     },
     "execution_count": 252,
     "metadata": {},
     "output_type": "execute_result"
    }
   ],
   "source": [
    "game_cities.head()"
   ]
  },
  {
   "cell_type": "code",
   "execution_count": 253,
   "id": "69c4eb7a-bbd3-4811-9504-fc3cf5753c24",
   "metadata": {},
   "outputs": [
    {
     "name": "stdout",
     "output_type": "stream",
     "text": [
      "<class 'pandas.core.frame.DataFrame'>\n",
      "RangeIndex: 67846 entries, 0 to 67845\n",
      "Data columns (total 6 columns):\n",
      " #   Column   Non-Null Count  Dtype \n",
      "---  ------   --------------  ----- \n",
      " 0   Season   67846 non-null  int64 \n",
      " 1   DayNum   67846 non-null  int64 \n",
      " 2   WTeamID  67846 non-null  int64 \n",
      " 3   LTeamID  67846 non-null  int64 \n",
      " 4   CRType   67846 non-null  object\n",
      " 5   CityID   67846 non-null  int64 \n",
      "dtypes: int64(5), object(1)\n",
      "memory usage: 3.1+ MB\n"
     ]
    }
   ],
   "source": [
    "game_cities.info()"
   ]
  },
  {
   "cell_type": "code",
   "execution_count": 254,
   "id": "a18b4620-e73d-4f43-b542-be971b0fc899",
   "metadata": {},
   "outputs": [
    {
     "data": {
      "text/plain": [
       "Regular      66349\n",
       "Secondary      764\n",
       "NCAA           733\n",
       "Name: CRType, dtype: int64"
      ]
     },
     "execution_count": 254,
     "metadata": {},
     "output_type": "execute_result"
    }
   ],
   "source": [
    "game_cities['CRType'].value_counts()"
   ]
  },
  {
   "cell_type": "markdown",
   "id": "6f170029-4a63-45f5-8c2c-02e35c543b7c",
   "metadata": {},
   "source": [
    "### Massey Ordinals\n",
    "\n",
    "# This is going to need further investigation into what exactly OrdinalRank denotes and how it can bring value"
   ]
  },
  {
   "cell_type": "code",
   "execution_count": 256,
   "id": "aafc6784-65bf-4b97-aef7-e1729d929f3d",
   "metadata": {},
   "outputs": [
    {
     "data": {
      "text/html": [
       "<div>\n",
       "<style scoped>\n",
       "    .dataframe tbody tr th:only-of-type {\n",
       "        vertical-align: middle;\n",
       "    }\n",
       "\n",
       "    .dataframe tbody tr th {\n",
       "        vertical-align: top;\n",
       "    }\n",
       "\n",
       "    .dataframe thead th {\n",
       "        text-align: right;\n",
       "    }\n",
       "</style>\n",
       "<table border=\"1\" class=\"dataframe\">\n",
       "  <thead>\n",
       "    <tr style=\"text-align: right;\">\n",
       "      <th></th>\n",
       "      <th>Season</th>\n",
       "      <th>RankingDayNum</th>\n",
       "      <th>SystemName</th>\n",
       "      <th>TeamID</th>\n",
       "      <th>OrdinalRank</th>\n",
       "    </tr>\n",
       "  </thead>\n",
       "  <tbody>\n",
       "    <tr>\n",
       "      <th>0</th>\n",
       "      <td>2003</td>\n",
       "      <td>35</td>\n",
       "      <td>SEL</td>\n",
       "      <td>1102</td>\n",
       "      <td>159</td>\n",
       "    </tr>\n",
       "    <tr>\n",
       "      <th>1</th>\n",
       "      <td>2003</td>\n",
       "      <td>35</td>\n",
       "      <td>SEL</td>\n",
       "      <td>1103</td>\n",
       "      <td>229</td>\n",
       "    </tr>\n",
       "    <tr>\n",
       "      <th>2</th>\n",
       "      <td>2003</td>\n",
       "      <td>35</td>\n",
       "      <td>SEL</td>\n",
       "      <td>1104</td>\n",
       "      <td>12</td>\n",
       "    </tr>\n",
       "    <tr>\n",
       "      <th>3</th>\n",
       "      <td>2003</td>\n",
       "      <td>35</td>\n",
       "      <td>SEL</td>\n",
       "      <td>1105</td>\n",
       "      <td>314</td>\n",
       "    </tr>\n",
       "    <tr>\n",
       "      <th>4</th>\n",
       "      <td>2003</td>\n",
       "      <td>35</td>\n",
       "      <td>SEL</td>\n",
       "      <td>1106</td>\n",
       "      <td>260</td>\n",
       "    </tr>\n",
       "  </tbody>\n",
       "</table>\n",
       "</div>"
      ],
      "text/plain": [
       "   Season  RankingDayNum SystemName  TeamID  OrdinalRank\n",
       "0    2003             35        SEL    1102          159\n",
       "1    2003             35        SEL    1103          229\n",
       "2    2003             35        SEL    1104           12\n",
       "3    2003             35        SEL    1105          314\n",
       "4    2003             35        SEL    1106          260"
      ]
     },
     "execution_count": 256,
     "metadata": {},
     "output_type": "execute_result"
    }
   ],
   "source": [
    "massey_ordinals.head()"
   ]
  },
  {
   "cell_type": "code",
   "execution_count": 257,
   "id": "56d79af0-67ec-4aa4-a693-fd8fe443f9e6",
   "metadata": {},
   "outputs": [
    {
     "data": {
      "text/plain": [
       "SAG    122047\n",
       "MOR    121057\n",
       "POM    118566\n",
       "DOK    105270\n",
       "WLK     97047\n",
       "        ...  \n",
       "CRW       351\n",
       "HRN       351\n",
       "PMC       351\n",
       "BP5       345\n",
       "PH        326\n",
       "Name: SystemName, Length: 187, dtype: int64"
      ]
     },
     "execution_count": 257,
     "metadata": {},
     "output_type": "execute_result"
    }
   ],
   "source": [
    "massey_ordinals['SystemName'].value_counts()"
   ]
  },
  {
   "cell_type": "markdown",
   "id": "a9a32b4d-adeb-4b14-82ba-63d6a5e7b502",
   "metadata": {},
   "source": [
    "### Team Coaches"
   ]
  },
  {
   "cell_type": "code",
   "execution_count": 258,
   "id": "ee4dcac4-bb30-46c7-84f4-30a790c9e251",
   "metadata": {},
   "outputs": [
    {
     "data": {
      "text/html": [
       "<div>\n",
       "<style scoped>\n",
       "    .dataframe tbody tr th:only-of-type {\n",
       "        vertical-align: middle;\n",
       "    }\n",
       "\n",
       "    .dataframe tbody tr th {\n",
       "        vertical-align: top;\n",
       "    }\n",
       "\n",
       "    .dataframe thead th {\n",
       "        text-align: right;\n",
       "    }\n",
       "</style>\n",
       "<table border=\"1\" class=\"dataframe\">\n",
       "  <thead>\n",
       "    <tr style=\"text-align: right;\">\n",
       "      <th></th>\n",
       "      <th>Season</th>\n",
       "      <th>TeamID</th>\n",
       "      <th>FirstDayNum</th>\n",
       "      <th>LastDayNum</th>\n",
       "      <th>CoachName</th>\n",
       "    </tr>\n",
       "  </thead>\n",
       "  <tbody>\n",
       "    <tr>\n",
       "      <th>0</th>\n",
       "      <td>1985</td>\n",
       "      <td>1102</td>\n",
       "      <td>0</td>\n",
       "      <td>154</td>\n",
       "      <td>reggie_minton</td>\n",
       "    </tr>\n",
       "    <tr>\n",
       "      <th>1</th>\n",
       "      <td>1985</td>\n",
       "      <td>1103</td>\n",
       "      <td>0</td>\n",
       "      <td>154</td>\n",
       "      <td>bob_huggins</td>\n",
       "    </tr>\n",
       "    <tr>\n",
       "      <th>2</th>\n",
       "      <td>1985</td>\n",
       "      <td>1104</td>\n",
       "      <td>0</td>\n",
       "      <td>154</td>\n",
       "      <td>wimp_sanderson</td>\n",
       "    </tr>\n",
       "    <tr>\n",
       "      <th>3</th>\n",
       "      <td>1985</td>\n",
       "      <td>1106</td>\n",
       "      <td>0</td>\n",
       "      <td>154</td>\n",
       "      <td>james_oliver</td>\n",
       "    </tr>\n",
       "    <tr>\n",
       "      <th>4</th>\n",
       "      <td>1985</td>\n",
       "      <td>1108</td>\n",
       "      <td>0</td>\n",
       "      <td>154</td>\n",
       "      <td>davey_whitney</td>\n",
       "    </tr>\n",
       "  </tbody>\n",
       "</table>\n",
       "</div>"
      ],
      "text/plain": [
       "   Season  TeamID  FirstDayNum  LastDayNum       CoachName\n",
       "0    1985    1102            0         154   reggie_minton\n",
       "1    1985    1103            0         154     bob_huggins\n",
       "2    1985    1104            0         154  wimp_sanderson\n",
       "3    1985    1106            0         154    james_oliver\n",
       "4    1985    1108            0         154   davey_whitney"
      ]
     },
     "execution_count": 258,
     "metadata": {},
     "output_type": "execute_result"
    }
   ],
   "source": [
    "team_coaches.head()"
   ]
  },
  {
   "cell_type": "code",
   "execution_count": 259,
   "id": "e2bf337c-b83d-4098-a330-062558d7d4a8",
   "metadata": {},
   "outputs": [
    {
     "data": {
      "text/plain": [
       "0     12309\n",
       "95        6\n",
       "67        6\n",
       "70        5\n",
       "31        5\n",
       "      ...  \n",
       "77        1\n",
       "21        1\n",
       "79        1\n",
       "61        1\n",
       "62        1\n",
       "Name: FirstDayNum, Length: 67, dtype: int64"
      ]
     },
     "execution_count": 259,
     "metadata": {},
     "output_type": "execute_result"
    }
   ],
   "source": [
    "team_coaches['FirstDayNum'].value_counts()"
   ]
  },
  {
   "cell_type": "markdown",
   "id": "943a12e4-7fed-417f-a6aa-12964fe66b79",
   "metadata": {},
   "source": [
    "### Conference"
   ]
  },
  {
   "cell_type": "code",
   "execution_count": 260,
   "id": "3441966e-29ae-4083-958b-1ada3ee45395",
   "metadata": {},
   "outputs": [
    {
     "data": {
      "text/html": [
       "<div>\n",
       "<style scoped>\n",
       "    .dataframe tbody tr th:only-of-type {\n",
       "        vertical-align: middle;\n",
       "    }\n",
       "\n",
       "    .dataframe tbody tr th {\n",
       "        vertical-align: top;\n",
       "    }\n",
       "\n",
       "    .dataframe thead th {\n",
       "        text-align: right;\n",
       "    }\n",
       "</style>\n",
       "<table border=\"1\" class=\"dataframe\">\n",
       "  <thead>\n",
       "    <tr style=\"text-align: right;\">\n",
       "      <th></th>\n",
       "      <th>ConfAbbrev</th>\n",
       "      <th>Description</th>\n",
       "    </tr>\n",
       "  </thead>\n",
       "  <tbody>\n",
       "    <tr>\n",
       "      <th>0</th>\n",
       "      <td>a_sun</td>\n",
       "      <td>Atlantic Sun Conference</td>\n",
       "    </tr>\n",
       "    <tr>\n",
       "      <th>1</th>\n",
       "      <td>a_ten</td>\n",
       "      <td>Atlantic 10 Conference</td>\n",
       "    </tr>\n",
       "    <tr>\n",
       "      <th>2</th>\n",
       "      <td>aac</td>\n",
       "      <td>American Athletic Conference</td>\n",
       "    </tr>\n",
       "    <tr>\n",
       "      <th>3</th>\n",
       "      <td>acc</td>\n",
       "      <td>Atlantic Coast Conference</td>\n",
       "    </tr>\n",
       "    <tr>\n",
       "      <th>4</th>\n",
       "      <td>aec</td>\n",
       "      <td>America East Conference</td>\n",
       "    </tr>\n",
       "  </tbody>\n",
       "</table>\n",
       "</div>"
      ],
      "text/plain": [
       "  ConfAbbrev                   Description\n",
       "0      a_sun       Atlantic Sun Conference\n",
       "1      a_ten        Atlantic 10 Conference\n",
       "2        aac  American Athletic Conference\n",
       "3        acc     Atlantic Coast Conference\n",
       "4        aec       America East Conference"
      ]
     },
     "execution_count": 260,
     "metadata": {},
     "output_type": "execute_result"
    }
   ],
   "source": [
    "conf.head()"
   ]
  },
  {
   "cell_type": "markdown",
   "id": "911bd9a2-c24f-4ab4-bceb-8ec55852d331",
   "metadata": {},
   "source": [
    "### Team Conference"
   ]
  },
  {
   "cell_type": "code",
   "execution_count": 261,
   "id": "acfd54c8-9fab-44a6-88bc-cb18de21b36f",
   "metadata": {},
   "outputs": [
    {
     "data": {
      "text/html": [
       "<div>\n",
       "<style scoped>\n",
       "    .dataframe tbody tr th:only-of-type {\n",
       "        vertical-align: middle;\n",
       "    }\n",
       "\n",
       "    .dataframe tbody tr th {\n",
       "        vertical-align: top;\n",
       "    }\n",
       "\n",
       "    .dataframe thead th {\n",
       "        text-align: right;\n",
       "    }\n",
       "</style>\n",
       "<table border=\"1\" class=\"dataframe\">\n",
       "  <thead>\n",
       "    <tr style=\"text-align: right;\">\n",
       "      <th></th>\n",
       "      <th>Season</th>\n",
       "      <th>TeamID</th>\n",
       "      <th>ConfAbbrev</th>\n",
       "    </tr>\n",
       "  </thead>\n",
       "  <tbody>\n",
       "    <tr>\n",
       "      <th>0</th>\n",
       "      <td>1985</td>\n",
       "      <td>1102</td>\n",
       "      <td>wac</td>\n",
       "    </tr>\n",
       "    <tr>\n",
       "      <th>1</th>\n",
       "      <td>1985</td>\n",
       "      <td>1103</td>\n",
       "      <td>ovc</td>\n",
       "    </tr>\n",
       "    <tr>\n",
       "      <th>2</th>\n",
       "      <td>1985</td>\n",
       "      <td>1104</td>\n",
       "      <td>sec</td>\n",
       "    </tr>\n",
       "    <tr>\n",
       "      <th>3</th>\n",
       "      <td>1985</td>\n",
       "      <td>1106</td>\n",
       "      <td>swac</td>\n",
       "    </tr>\n",
       "    <tr>\n",
       "      <th>4</th>\n",
       "      <td>1985</td>\n",
       "      <td>1108</td>\n",
       "      <td>swac</td>\n",
       "    </tr>\n",
       "  </tbody>\n",
       "</table>\n",
       "</div>"
      ],
      "text/plain": [
       "   Season  TeamID ConfAbbrev\n",
       "0    1985    1102        wac\n",
       "1    1985    1103        ovc\n",
       "2    1985    1104        sec\n",
       "3    1985    1106       swac\n",
       "4    1985    1108       swac"
      ]
     },
     "execution_count": 261,
     "metadata": {},
     "output_type": "execute_result"
    }
   ],
   "source": [
    "team_conf.head()"
   ]
  },
  {
   "cell_type": "markdown",
   "id": "33420a09-a1b2-4d52-b926-252c22430fc2",
   "metadata": {},
   "source": [
    "### Conference Tourney Games"
   ]
  },
  {
   "cell_type": "code",
   "execution_count": 262,
   "id": "13d14b63-3f74-40ab-9881-48361c420238",
   "metadata": {},
   "outputs": [
    {
     "data": {
      "text/html": [
       "<div>\n",
       "<style scoped>\n",
       "    .dataframe tbody tr th:only-of-type {\n",
       "        vertical-align: middle;\n",
       "    }\n",
       "\n",
       "    .dataframe tbody tr th {\n",
       "        vertical-align: top;\n",
       "    }\n",
       "\n",
       "    .dataframe thead th {\n",
       "        text-align: right;\n",
       "    }\n",
       "</style>\n",
       "<table border=\"1\" class=\"dataframe\">\n",
       "  <thead>\n",
       "    <tr style=\"text-align: right;\">\n",
       "      <th></th>\n",
       "      <th>Season</th>\n",
       "      <th>ConfAbbrev</th>\n",
       "      <th>DayNum</th>\n",
       "      <th>WTeamID</th>\n",
       "      <th>LTeamID</th>\n",
       "    </tr>\n",
       "  </thead>\n",
       "  <tbody>\n",
       "    <tr>\n",
       "      <th>0</th>\n",
       "      <td>2001</td>\n",
       "      <td>a_sun</td>\n",
       "      <td>121</td>\n",
       "      <td>1194</td>\n",
       "      <td>1144</td>\n",
       "    </tr>\n",
       "    <tr>\n",
       "      <th>1</th>\n",
       "      <td>2001</td>\n",
       "      <td>a_sun</td>\n",
       "      <td>121</td>\n",
       "      <td>1416</td>\n",
       "      <td>1240</td>\n",
       "    </tr>\n",
       "    <tr>\n",
       "      <th>2</th>\n",
       "      <td>2001</td>\n",
       "      <td>a_sun</td>\n",
       "      <td>122</td>\n",
       "      <td>1209</td>\n",
       "      <td>1194</td>\n",
       "    </tr>\n",
       "    <tr>\n",
       "      <th>3</th>\n",
       "      <td>2001</td>\n",
       "      <td>a_sun</td>\n",
       "      <td>122</td>\n",
       "      <td>1359</td>\n",
       "      <td>1239</td>\n",
       "    </tr>\n",
       "    <tr>\n",
       "      <th>4</th>\n",
       "      <td>2001</td>\n",
       "      <td>a_sun</td>\n",
       "      <td>122</td>\n",
       "      <td>1391</td>\n",
       "      <td>1273</td>\n",
       "    </tr>\n",
       "  </tbody>\n",
       "</table>\n",
       "</div>"
      ],
      "text/plain": [
       "   Season ConfAbbrev  DayNum  WTeamID  LTeamID\n",
       "0    2001      a_sun     121     1194     1144\n",
       "1    2001      a_sun     121     1416     1240\n",
       "2    2001      a_sun     122     1209     1194\n",
       "3    2001      a_sun     122     1359     1239\n",
       "4    2001      a_sun     122     1391     1273"
      ]
     },
     "execution_count": 262,
     "metadata": {},
     "output_type": "execute_result"
    }
   ],
   "source": [
    "conf_tourney_games.head()"
   ]
  },
  {
   "cell_type": "markdown",
   "id": "1fe5793d-3ee6-479e-bb59-64c04ac8143d",
   "metadata": {},
   "source": [
    "### Secondary Tourney Teams & Secondary Tourney Compact Reults\n",
    "\n",
    "#### Leave this for a later date"
   ]
  },
  {
   "cell_type": "code",
   "execution_count": 263,
   "id": "cbe61750-825a-42e8-87e6-21ba821438d7",
   "metadata": {},
   "outputs": [],
   "source": [
    "secondary_tourney_teams = pd.read_csv('MSecondaryTourneyTeams.csv')\n",
    "secondary_tourney_compact_results = pd.read_csv('MSecondaryTourneyTeams.csv')"
   ]
  },
  {
   "cell_type": "markdown",
   "id": "7d2af56f-3215-46dc-b47c-acc7925c0ac4",
   "metadata": {},
   "source": [
    "### Team Spellings\n",
    "\n",
    "#### We will use this if we add external data"
   ]
  },
  {
   "cell_type": "markdown",
   "id": "2efe8b3a-550a-422c-b9ef-eff9a6d3f243",
   "metadata": {},
   "source": [
    "team_spellings = pd.read_csv('MTeamSpellings.csv', encoding='cp1252')"
   ]
  },
  {
   "cell_type": "markdown",
   "id": "b407014e-3047-4365-9b3e-938e735f2eef",
   "metadata": {},
   "source": [
    "### Tourney Slots"
   ]
  },
  {
   "cell_type": "code",
   "execution_count": 266,
   "id": "d5c2cd8c-ce72-4f0c-8401-de8111a117f7",
   "metadata": {},
   "outputs": [
    {
     "data": {
      "text/html": [
       "<div>\n",
       "<style scoped>\n",
       "    .dataframe tbody tr th:only-of-type {\n",
       "        vertical-align: middle;\n",
       "    }\n",
       "\n",
       "    .dataframe tbody tr th {\n",
       "        vertical-align: top;\n",
       "    }\n",
       "\n",
       "    .dataframe thead th {\n",
       "        text-align: right;\n",
       "    }\n",
       "</style>\n",
       "<table border=\"1\" class=\"dataframe\">\n",
       "  <thead>\n",
       "    <tr style=\"text-align: right;\">\n",
       "      <th></th>\n",
       "      <th>Season</th>\n",
       "      <th>Slot</th>\n",
       "      <th>StrongSeed</th>\n",
       "      <th>WeakSeed</th>\n",
       "    </tr>\n",
       "  </thead>\n",
       "  <tbody>\n",
       "    <tr>\n",
       "      <th>0</th>\n",
       "      <td>1985</td>\n",
       "      <td>R1W1</td>\n",
       "      <td>W01</td>\n",
       "      <td>W16</td>\n",
       "    </tr>\n",
       "    <tr>\n",
       "      <th>1</th>\n",
       "      <td>1985</td>\n",
       "      <td>R1W2</td>\n",
       "      <td>W02</td>\n",
       "      <td>W15</td>\n",
       "    </tr>\n",
       "    <tr>\n",
       "      <th>2</th>\n",
       "      <td>1985</td>\n",
       "      <td>R1W3</td>\n",
       "      <td>W03</td>\n",
       "      <td>W14</td>\n",
       "    </tr>\n",
       "    <tr>\n",
       "      <th>3</th>\n",
       "      <td>1985</td>\n",
       "      <td>R1W4</td>\n",
       "      <td>W04</td>\n",
       "      <td>W13</td>\n",
       "    </tr>\n",
       "    <tr>\n",
       "      <th>4</th>\n",
       "      <td>1985</td>\n",
       "      <td>R1W5</td>\n",
       "      <td>W05</td>\n",
       "      <td>W12</td>\n",
       "    </tr>\n",
       "    <tr>\n",
       "      <th>...</th>\n",
       "      <td>...</td>\n",
       "      <td>...</td>\n",
       "      <td>...</td>\n",
       "      <td>...</td>\n",
       "    </tr>\n",
       "    <tr>\n",
       "      <th>2313</th>\n",
       "      <td>2021</td>\n",
       "      <td>R6CH</td>\n",
       "      <td>R5WX</td>\n",
       "      <td>R5YZ</td>\n",
       "    </tr>\n",
       "    <tr>\n",
       "      <th>2314</th>\n",
       "      <td>2021</td>\n",
       "      <td>W11</td>\n",
       "      <td>W11a</td>\n",
       "      <td>W11b</td>\n",
       "    </tr>\n",
       "    <tr>\n",
       "      <th>2315</th>\n",
       "      <td>2021</td>\n",
       "      <td>W16</td>\n",
       "      <td>W16a</td>\n",
       "      <td>W16b</td>\n",
       "    </tr>\n",
       "    <tr>\n",
       "      <th>2316</th>\n",
       "      <td>2021</td>\n",
       "      <td>X11</td>\n",
       "      <td>X11a</td>\n",
       "      <td>X11b</td>\n",
       "    </tr>\n",
       "    <tr>\n",
       "      <th>2317</th>\n",
       "      <td>2021</td>\n",
       "      <td>X16</td>\n",
       "      <td>X16a</td>\n",
       "      <td>X16b</td>\n",
       "    </tr>\n",
       "  </tbody>\n",
       "</table>\n",
       "<p>2318 rows × 4 columns</p>\n",
       "</div>"
      ],
      "text/plain": [
       "      Season  Slot StrongSeed WeakSeed\n",
       "0       1985  R1W1        W01      W16\n",
       "1       1985  R1W2        W02      W15\n",
       "2       1985  R1W3        W03      W14\n",
       "3       1985  R1W4        W04      W13\n",
       "4       1985  R1W5        W05      W12\n",
       "...      ...   ...        ...      ...\n",
       "2313    2021  R6CH       R5WX     R5YZ\n",
       "2314    2021   W11       W11a     W11b\n",
       "2315    2021   W16       W16a     W16b\n",
       "2316    2021   X11       X11a     X11b\n",
       "2317    2021   X16       X16a     X16b\n",
       "\n",
       "[2318 rows x 4 columns]"
      ]
     },
     "execution_count": 266,
     "metadata": {},
     "output_type": "execute_result"
    }
   ],
   "source": [
    "tourney_slots"
   ]
  },
  {
   "cell_type": "markdown",
   "id": "0ea6bf38-6405-498a-96ff-aef91e1519cd",
   "metadata": {},
   "source": [
    "### Tourney Seed Round Slots"
   ]
  },
  {
   "cell_type": "code",
   "execution_count": 267,
   "id": "a5cfbb8f-8a4e-43a0-9c11-15f47ec5e90a",
   "metadata": {},
   "outputs": [
    {
     "data": {
      "text/html": [
       "<div>\n",
       "<style scoped>\n",
       "    .dataframe tbody tr th:only-of-type {\n",
       "        vertical-align: middle;\n",
       "    }\n",
       "\n",
       "    .dataframe tbody tr th {\n",
       "        vertical-align: top;\n",
       "    }\n",
       "\n",
       "    .dataframe thead th {\n",
       "        text-align: right;\n",
       "    }\n",
       "</style>\n",
       "<table border=\"1\" class=\"dataframe\">\n",
       "  <thead>\n",
       "    <tr style=\"text-align: right;\">\n",
       "      <th></th>\n",
       "      <th>Seed</th>\n",
       "      <th>GameRound</th>\n",
       "      <th>GameSlot</th>\n",
       "      <th>EarlyDayNum</th>\n",
       "      <th>LateDayNum</th>\n",
       "    </tr>\n",
       "  </thead>\n",
       "  <tbody>\n",
       "    <tr>\n",
       "      <th>0</th>\n",
       "      <td>W01</td>\n",
       "      <td>1</td>\n",
       "      <td>R1W1</td>\n",
       "      <td>136</td>\n",
       "      <td>137</td>\n",
       "    </tr>\n",
       "    <tr>\n",
       "      <th>1</th>\n",
       "      <td>W01</td>\n",
       "      <td>2</td>\n",
       "      <td>R2W1</td>\n",
       "      <td>138</td>\n",
       "      <td>139</td>\n",
       "    </tr>\n",
       "    <tr>\n",
       "      <th>2</th>\n",
       "      <td>W01</td>\n",
       "      <td>3</td>\n",
       "      <td>R3W1</td>\n",
       "      <td>143</td>\n",
       "      <td>144</td>\n",
       "    </tr>\n",
       "    <tr>\n",
       "      <th>3</th>\n",
       "      <td>W01</td>\n",
       "      <td>4</td>\n",
       "      <td>R4W1</td>\n",
       "      <td>145</td>\n",
       "      <td>146</td>\n",
       "    </tr>\n",
       "    <tr>\n",
       "      <th>4</th>\n",
       "      <td>W01</td>\n",
       "      <td>5</td>\n",
       "      <td>R5WX</td>\n",
       "      <td>152</td>\n",
       "      <td>152</td>\n",
       "    </tr>\n",
       "    <tr>\n",
       "      <th>...</th>\n",
       "      <td>...</td>\n",
       "      <td>...</td>\n",
       "      <td>...</td>\n",
       "      <td>...</td>\n",
       "      <td>...</td>\n",
       "    </tr>\n",
       "    <tr>\n",
       "      <th>715</th>\n",
       "      <td>Z16b</td>\n",
       "      <td>2</td>\n",
       "      <td>R2Z1</td>\n",
       "      <td>138</td>\n",
       "      <td>139</td>\n",
       "    </tr>\n",
       "    <tr>\n",
       "      <th>716</th>\n",
       "      <td>Z16b</td>\n",
       "      <td>3</td>\n",
       "      <td>R3Z1</td>\n",
       "      <td>143</td>\n",
       "      <td>144</td>\n",
       "    </tr>\n",
       "    <tr>\n",
       "      <th>717</th>\n",
       "      <td>Z16b</td>\n",
       "      <td>4</td>\n",
       "      <td>R4Z1</td>\n",
       "      <td>145</td>\n",
       "      <td>146</td>\n",
       "    </tr>\n",
       "    <tr>\n",
       "      <th>718</th>\n",
       "      <td>Z16b</td>\n",
       "      <td>5</td>\n",
       "      <td>R5YZ</td>\n",
       "      <td>152</td>\n",
       "      <td>152</td>\n",
       "    </tr>\n",
       "    <tr>\n",
       "      <th>719</th>\n",
       "      <td>Z16b</td>\n",
       "      <td>6</td>\n",
       "      <td>R6CH</td>\n",
       "      <td>154</td>\n",
       "      <td>154</td>\n",
       "    </tr>\n",
       "  </tbody>\n",
       "</table>\n",
       "<p>720 rows × 5 columns</p>\n",
       "</div>"
      ],
      "text/plain": [
       "     Seed  GameRound GameSlot  EarlyDayNum  LateDayNum\n",
       "0     W01          1     R1W1          136         137\n",
       "1     W01          2     R2W1          138         139\n",
       "2     W01          3     R3W1          143         144\n",
       "3     W01          4     R4W1          145         146\n",
       "4     W01          5     R5WX          152         152\n",
       "..    ...        ...      ...          ...         ...\n",
       "715  Z16b          2     R2Z1          138         139\n",
       "716  Z16b          3     R3Z1          143         144\n",
       "717  Z16b          4     R4Z1          145         146\n",
       "718  Z16b          5     R5YZ          152         152\n",
       "719  Z16b          6     R6CH          154         154\n",
       "\n",
       "[720 rows x 5 columns]"
      ]
     },
     "execution_count": 267,
     "metadata": {},
     "output_type": "execute_result"
    }
   ],
   "source": [
    "tourney_seed_round_slots"
   ]
  },
  {
   "cell_type": "code",
   "execution_count": null,
   "id": "fc8f7a8a-44f9-449b-b524-bb25c20234d3",
   "metadata": {},
   "outputs": [],
   "source": [
    "Data Cleaning:\n",
    "    * Season: Remove NA4 and TBD \n",
    "    * Regular Season Compact Results - convert WTeamID and LTeamID to team names\n",
    "    * Add coordinates and elevation to cities\n",
    "    * Remove secondary game_cities from dataset? "
   ]
  }
 ],
 "metadata": {
  "kernelspec": {
   "display_name": "kaggle_env",
   "language": "python",
   "name": "kaggle_env"
  },
  "language_info": {
   "codemirror_mode": {
    "name": "ipython",
    "version": 3
   },
   "file_extension": ".py",
   "mimetype": "text/x-python",
   "name": "python",
   "nbconvert_exporter": "python",
   "pygments_lexer": "ipython3",
   "version": "3.9.7"
  }
 },
 "nbformat": 4,
 "nbformat_minor": 5
}
